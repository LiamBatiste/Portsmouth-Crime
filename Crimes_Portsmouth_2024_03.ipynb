{
 "cells": [
  {
   "cell_type": "code",
   "execution_count": 1,
   "id": "16c37a17-60cd-490c-b4c5-5aefde48d4d8",
   "metadata": {},
   "outputs": [
    {
     "name": "stdout",
     "output_type": "stream",
     "text": [
      "done\n"
     ]
    }
   ],
   "source": [
    "import requests \n",
    "import pandas as pd\n",
    "import numpy \n",
    "import seaborn as sns\n",
    "import matplotlib.pyplot as plt\n",
    "print(\"done\")"
   ]
  },
  {
   "cell_type": "code",
   "execution_count": 2,
   "id": "9f4cb998-1ee5-4403-b3f8-2ead2ab5bdf2",
   "metadata": {},
   "outputs": [
    {
     "name": "stdout",
     "output_type": "stream",
     "text": [
      "<Response [200]>\n"
     ]
    }
   ],
   "source": [
    "# Where is the majoirty of crime occuring?\n",
    "# What is the most frequent category of offence? \n",
    "# \n",
    "# Is there a relationship between the type of crime and time of year?\n",
    "# Does weather affect type of crime? \n",
    "\n",
    "params = {\n",
    "    'lat': 50.805832,  # Latitude of Portsmouth\n",
    "    'lng': -1.087222,   # Longitude of Portsmouth  \n",
    "    \n",
    "}\n",
    "\n",
    "response = requests.get(\"https://data.police.uk/api/crimes-street/all-crime\", params=params)\n",
    "print(response)"
   ]
  },
  {
   "cell_type": "code",
   "execution_count": 3,
   "id": "6499bc4e-fc55-4082-bfdb-cffe83b9fef7",
   "metadata": {
    "scrolled": true
   },
   "outputs": [
    {
     "data": {
      "text/html": [
       "<div>\n",
       "<style scoped>\n",
       "    .dataframe tbody tr th:only-of-type {\n",
       "        vertical-align: middle;\n",
       "    }\n",
       "\n",
       "    .dataframe tbody tr th {\n",
       "        vertical-align: top;\n",
       "    }\n",
       "\n",
       "    .dataframe thead th {\n",
       "        text-align: right;\n",
       "    }\n",
       "</style>\n",
       "<table border=\"1\" class=\"dataframe\">\n",
       "  <thead>\n",
       "    <tr style=\"text-align: right;\">\n",
       "      <th></th>\n",
       "      <th>category</th>\n",
       "      <th>location_type</th>\n",
       "      <th>location</th>\n",
       "      <th>outcome_status</th>\n",
       "      <th>id</th>\n",
       "      <th>month</th>\n",
       "    </tr>\n",
       "  </thead>\n",
       "  <tbody>\n",
       "    <tr>\n",
       "      <th>0</th>\n",
       "      <td>anti-social-behaviour</td>\n",
       "      <td>Force</td>\n",
       "      <td>{'latitude': '50.801747', 'street': {'id': 1554542, 'name': 'On or near Jacob's Street'}, 'longitude': '-1.087243'}</td>\n",
       "      <td>None</td>\n",
       "      <td>117597222</td>\n",
       "      <td>2024-03</td>\n",
       "    </tr>\n",
       "    <tr>\n",
       "      <th>1</th>\n",
       "      <td>anti-social-behaviour</td>\n",
       "      <td>Force</td>\n",
       "      <td>{'latitude': '50.799372', 'street': {'id': 1554299, 'name': 'On or near Willis Road'}, 'longitude': '-1.091660'}</td>\n",
       "      <td>None</td>\n",
       "      <td>117597514</td>\n",
       "      <td>2024-03</td>\n",
       "    </tr>\n",
       "    <tr>\n",
       "      <th>2</th>\n",
       "      <td>anti-social-behaviour</td>\n",
       "      <td>Force</td>\n",
       "      <td>{'latitude': '50.799159', 'street': {'id': 1553681, 'name': 'On or near Old Star Place'}, 'longitude': '-1.105968'}</td>\n",
       "      <td>None</td>\n",
       "      <td>117597555</td>\n",
       "      <td>2024-03</td>\n",
       "    </tr>\n",
       "    <tr>\n",
       "      <th>3</th>\n",
       "      <td>anti-social-behaviour</td>\n",
       "      <td>Force</td>\n",
       "      <td>{'latitude': '50.799193', 'street': {'id': 1554345, 'name': 'On or near Surrey Street'}, 'longitude': '-1.090585'}</td>\n",
       "      <td>None</td>\n",
       "      <td>117597554</td>\n",
       "      <td>2024-03</td>\n",
       "    </tr>\n",
       "    <tr>\n",
       "      <th>4</th>\n",
       "      <td>anti-social-behaviour</td>\n",
       "      <td>Force</td>\n",
       "      <td>{'latitude': '50.806115', 'street': {'id': 1555024, 'name': 'On or near Westminster Place'}, 'longitude': '-1.079991'}</td>\n",
       "      <td>None</td>\n",
       "      <td>117597039</td>\n",
       "      <td>2024-03</td>\n",
       "    </tr>\n",
       "  </tbody>\n",
       "</table>\n",
       "</div>"
      ],
      "text/plain": [
       "                category location_type  \\\n",
       "0  anti-social-behaviour         Force   \n",
       "1  anti-social-behaviour         Force   \n",
       "2  anti-social-behaviour         Force   \n",
       "3  anti-social-behaviour         Force   \n",
       "4  anti-social-behaviour         Force   \n",
       "\n",
       "                                                                                                                 location  \\\n",
       "0     {'latitude': '50.801747', 'street': {'id': 1554542, 'name': 'On or near Jacob's Street'}, 'longitude': '-1.087243'}   \n",
       "1        {'latitude': '50.799372', 'street': {'id': 1554299, 'name': 'On or near Willis Road'}, 'longitude': '-1.091660'}   \n",
       "2     {'latitude': '50.799159', 'street': {'id': 1553681, 'name': 'On or near Old Star Place'}, 'longitude': '-1.105968'}   \n",
       "3      {'latitude': '50.799193', 'street': {'id': 1554345, 'name': 'On or near Surrey Street'}, 'longitude': '-1.090585'}   \n",
       "4  {'latitude': '50.806115', 'street': {'id': 1555024, 'name': 'On or near Westminster Place'}, 'longitude': '-1.079991'}   \n",
       "\n",
       "  outcome_status         id    month  \n",
       "0           None  117597222  2024-03  \n",
       "1           None  117597514  2024-03  \n",
       "2           None  117597555  2024-03  \n",
       "3           None  117597554  2024-03  \n",
       "4           None  117597039  2024-03  "
      ]
     },
     "execution_count": 3,
     "metadata": {},
     "output_type": "execute_result"
    }
   ],
   "source": [
    "crime_json = response.json()\n",
    "df = pd.DataFrame(crime_json)\n",
    "pd.set_option('display.max_columns', None)\n",
    "pd.set_option('display.max_colwidth', None)\n",
    "df.drop(labels=['context', 'persistent_id', 'location_subtype'], axis=1, inplace=True)\n",
    "df.head()"
   ]
  },
  {
   "cell_type": "code",
   "execution_count": 4,
   "id": "4027e4a7-3c67-4305-8b0c-b0a721bbc02a",
   "metadata": {},
   "outputs": [
    {
     "name": "stdout",
     "output_type": "stream",
     "text": [
      "category: 0\n",
      "location_type: 0\n",
      "location: 0\n",
      "outcome_status: 78\n",
      "id: 0\n",
      "month: 0\n"
     ]
    }
   ],
   "source": [
    "for row in df:\n",
    "    print(f\"{row}: \" + str(df[row].isnull().sum()))"
   ]
  },
  {
   "cell_type": "code",
   "execution_count": 5,
   "id": "5ba16f00-cac2-4896-9b76-23d3a9063ffa",
   "metadata": {
    "scrolled": true
   },
   "outputs": [
    {
     "data": {
      "text/plain": [
       "0"
      ]
     },
     "execution_count": 5,
     "metadata": {},
     "output_type": "execute_result"
    }
   ],
   "source": [
    "df['id'].duplicated().sum()"
   ]
  },
  {
   "cell_type": "code",
   "execution_count": 6,
   "id": "610fac52-8780-4d2c-8dcc-7a83ed0fd49b",
   "metadata": {},
   "outputs": [
    {
     "data": {
      "text/plain": [
       "2024-03    938\n",
       "Name: month, dtype: int64"
      ]
     },
     "execution_count": 6,
     "metadata": {},
     "output_type": "execute_result"
    }
   ],
   "source": [
    "df['month'].value_counts()"
   ]
  },
  {
   "cell_type": "code",
   "execution_count": 7,
   "id": "cb47acde-ce1d-4617-84fa-a65284f857b5",
   "metadata": {
    "scrolled": true
   },
   "outputs": [
    {
     "data": {
      "text/plain": [
       "category                  object\n",
       "location_type             object\n",
       "location                  object\n",
       "outcome_status            object\n",
       "id                         int64\n",
       "month             datetime64[ns]\n",
       "dtype: object"
      ]
     },
     "execution_count": 7,
     "metadata": {},
     "output_type": "execute_result"
    }
   ],
   "source": [
    "df.dtypes\n",
    "df['month'] = pd.to_datetime(df['month'])\n",
    "df.dtypes"
   ]
  },
  {
   "cell_type": "code",
   "execution_count": 9,
   "id": "5d971914-7252-43ce-8ac4-c868690b1583",
   "metadata": {},
   "outputs": [
    {
     "data": {
      "text/html": [
       "<div>\n",
       "<style scoped>\n",
       "    .dataframe tbody tr th:only-of-type {\n",
       "        vertical-align: middle;\n",
       "    }\n",
       "\n",
       "    .dataframe tbody tr th {\n",
       "        vertical-align: top;\n",
       "    }\n",
       "\n",
       "    .dataframe thead th {\n",
       "        text-align: right;\n",
       "    }\n",
       "</style>\n",
       "<table border=\"1\" class=\"dataframe\">\n",
       "  <thead>\n",
       "    <tr style=\"text-align: right;\">\n",
       "      <th></th>\n",
       "      <th>category</th>\n",
       "      <th>location_type</th>\n",
       "      <th>location</th>\n",
       "      <th>outcome_status</th>\n",
       "      <th>id</th>\n",
       "      <th>month</th>\n",
       "    </tr>\n",
       "  </thead>\n",
       "  <tbody>\n",
       "    <tr>\n",
       "      <th>659</th>\n",
       "      <td>violent-crime</td>\n",
       "      <td>Force</td>\n",
       "      <td>{'latitude': '50.803825', 'street': {'id': 1555514, 'name': 'On or near Fourth Street'}, 'longitude': '-1.071351'}</td>\n",
       "      <td>Under investigation</td>\n",
       "      <td>117597120</td>\n",
       "      <td>2024-03-01</td>\n",
       "    </tr>\n",
       "    <tr>\n",
       "      <th>190</th>\n",
       "      <td>drugs</td>\n",
       "      <td>BTP</td>\n",
       "      <td>{'latitude': '50.796517', 'street': {'id': 2343655, 'name': 'Fratton (station)'}, 'longitude': '-1.073766'}</td>\n",
       "      <td>Under investigation</td>\n",
       "      <td>117780837</td>\n",
       "      <td>2024-03-01</td>\n",
       "    </tr>\n",
       "    <tr>\n",
       "      <th>111</th>\n",
       "      <td>criminal-damage-arson</td>\n",
       "      <td>Force</td>\n",
       "      <td>{'latitude': '50.801432', 'street': {'id': 1554841, 'name': 'On or near Fyning Street'}, 'longitude': '-1.082567'}</td>\n",
       "      <td>Under investigation</td>\n",
       "      <td>117597324</td>\n",
       "      <td>2024-03-01</td>\n",
       "    </tr>\n",
       "    <tr>\n",
       "      <th>368</th>\n",
       "      <td>shoplifting</td>\n",
       "      <td>Force</td>\n",
       "      <td>{'latitude': '50.798024', 'street': {'id': 1554314, 'name': 'On or near Parking Area'}, 'longitude': '-1.090693'}</td>\n",
       "      <td>Under investigation</td>\n",
       "      <td>117597617</td>\n",
       "      <td>2024-03-01</td>\n",
       "    </tr>\n",
       "    <tr>\n",
       "      <th>87</th>\n",
       "      <td>bicycle-theft</td>\n",
       "      <td>Force</td>\n",
       "      <td>{'latitude': '50.800385', 'street': {'id': 1554273, 'name': 'On or near Kingswell Street'}, 'longitude': '-1.091286'}</td>\n",
       "      <td>Investigation complete; no suspect identified</td>\n",
       "      <td>117597452</td>\n",
       "      <td>2024-03-01</td>\n",
       "    </tr>\n",
       "    <tr>\n",
       "      <th>936</th>\n",
       "      <td>other-crime</td>\n",
       "      <td>Force</td>\n",
       "      <td>{'latitude': '50.796322', 'street': {'id': 1554352, 'name': 'On or near The Mary Rose Street'}, 'longitude': '-1.090400'}</td>\n",
       "      <td>Under investigation</td>\n",
       "      <td>117689680</td>\n",
       "      <td>2024-03-01</td>\n",
       "    </tr>\n",
       "    <tr>\n",
       "      <th>161</th>\n",
       "      <td>criminal-damage-arson</td>\n",
       "      <td>Force</td>\n",
       "      <td>{'latitude': '50.794721', 'street': {'id': 1554662, 'name': 'On or near River's Street'}, 'longitude': '-1.085763'}</td>\n",
       "      <td>Investigation complete; no suspect identified</td>\n",
       "      <td>117597991</td>\n",
       "      <td>2024-03-01</td>\n",
       "    </tr>\n",
       "    <tr>\n",
       "      <th>594</th>\n",
       "      <td>violent-crime</td>\n",
       "      <td>Force</td>\n",
       "      <td>{'latitude': '50.795738', 'street': {'id': 1554675, 'name': 'On or near Quinton Close'}, 'longitude': '-1.084679'}</td>\n",
       "      <td>Under investigation</td>\n",
       "      <td>117597869</td>\n",
       "      <td>2024-03-01</td>\n",
       "    </tr>\n",
       "    <tr>\n",
       "      <th>891</th>\n",
       "      <td>violent-crime</td>\n",
       "      <td>Force</td>\n",
       "      <td>{'latitude': '50.799855', 'street': {'id': 1555415, 'name': 'On or near Liverpool Road'}, 'longitude': '-1.071927'}</td>\n",
       "      <td>Action to be taken by another organisation</td>\n",
       "      <td>117597423</td>\n",
       "      <td>2024-03-01</td>\n",
       "    </tr>\n",
       "    <tr>\n",
       "      <th>557</th>\n",
       "      <td>violent-crime</td>\n",
       "      <td>Force</td>\n",
       "      <td>{'latitude': '50.801886', 'street': {'id': 1555549, 'name': 'On or near Cuthbert Road'}, 'longitude': '-1.070666'}</td>\n",
       "      <td>Under investigation</td>\n",
       "      <td>117597261</td>\n",
       "      <td>2024-03-01</td>\n",
       "    </tr>\n",
       "  </tbody>\n",
       "</table>\n",
       "</div>"
      ],
      "text/plain": [
       "                  category location_type  \\\n",
       "659          violent-crime         Force   \n",
       "190                  drugs           BTP   \n",
       "111  criminal-damage-arson         Force   \n",
       "368            shoplifting         Force   \n",
       "87           bicycle-theft         Force   \n",
       "936            other-crime         Force   \n",
       "161  criminal-damage-arson         Force   \n",
       "594          violent-crime         Force   \n",
       "891          violent-crime         Force   \n",
       "557          violent-crime         Force   \n",
       "\n",
       "                                                                                                                      location  \\\n",
       "659         {'latitude': '50.803825', 'street': {'id': 1555514, 'name': 'On or near Fourth Street'}, 'longitude': '-1.071351'}   \n",
       "190                {'latitude': '50.796517', 'street': {'id': 2343655, 'name': 'Fratton (station)'}, 'longitude': '-1.073766'}   \n",
       "111         {'latitude': '50.801432', 'street': {'id': 1554841, 'name': 'On or near Fyning Street'}, 'longitude': '-1.082567'}   \n",
       "368          {'latitude': '50.798024', 'street': {'id': 1554314, 'name': 'On or near Parking Area'}, 'longitude': '-1.090693'}   \n",
       "87       {'latitude': '50.800385', 'street': {'id': 1554273, 'name': 'On or near Kingswell Street'}, 'longitude': '-1.091286'}   \n",
       "936  {'latitude': '50.796322', 'street': {'id': 1554352, 'name': 'On or near The Mary Rose Street'}, 'longitude': '-1.090400'}   \n",
       "161        {'latitude': '50.794721', 'street': {'id': 1554662, 'name': 'On or near River's Street'}, 'longitude': '-1.085763'}   \n",
       "594         {'latitude': '50.795738', 'street': {'id': 1554675, 'name': 'On or near Quinton Close'}, 'longitude': '-1.084679'}   \n",
       "891        {'latitude': '50.799855', 'street': {'id': 1555415, 'name': 'On or near Liverpool Road'}, 'longitude': '-1.071927'}   \n",
       "557         {'latitude': '50.801886', 'street': {'id': 1555549, 'name': 'On or near Cuthbert Road'}, 'longitude': '-1.070666'}   \n",
       "\n",
       "                                    outcome_status         id      month  \n",
       "659                            Under investigation  117597120 2024-03-01  \n",
       "190                            Under investigation  117780837 2024-03-01  \n",
       "111                            Under investigation  117597324 2024-03-01  \n",
       "368                            Under investigation  117597617 2024-03-01  \n",
       "87   Investigation complete; no suspect identified  117597452 2024-03-01  \n",
       "936                            Under investigation  117689680 2024-03-01  \n",
       "161  Investigation complete; no suspect identified  117597991 2024-03-01  \n",
       "594                            Under investigation  117597869 2024-03-01  \n",
       "891     Action to be taken by another organisation  117597423 2024-03-01  \n",
       "557                            Under investigation  117597261 2024-03-01  "
      ]
     },
     "execution_count": 9,
     "metadata": {},
     "output_type": "execute_result"
    }
   ],
   "source": [
    "outcome_status = []\n",
    "for row in df['outcome_status']:\n",
    "    if row is not None:\n",
    "        outcome_status.append(row['category'])\n",
    "    else:\n",
    "        outcome_status.append('None')\n",
    "\n",
    "df['outcome_status'] = outcome_status\n",
    "df.sample(10)"
   ]
  },
  {
   "cell_type": "code",
   "execution_count": 10,
   "id": "b00bc9e2-8136-4a45-9980-0e6ec6afc179",
   "metadata": {},
   "outputs": [
    {
     "data": {
      "text/html": [
       "<div>\n",
       "<style scoped>\n",
       "    .dataframe tbody tr th:only-of-type {\n",
       "        vertical-align: middle;\n",
       "    }\n",
       "\n",
       "    .dataframe tbody tr th {\n",
       "        vertical-align: top;\n",
       "    }\n",
       "\n",
       "    .dataframe thead th {\n",
       "        text-align: right;\n",
       "    }\n",
       "</style>\n",
       "<table border=\"1\" class=\"dataframe\">\n",
       "  <thead>\n",
       "    <tr style=\"text-align: right;\">\n",
       "      <th></th>\n",
       "      <th>category</th>\n",
       "      <th>location_type</th>\n",
       "      <th>location</th>\n",
       "      <th>outcome_status</th>\n",
       "      <th>id</th>\n",
       "      <th>month</th>\n",
       "    </tr>\n",
       "  </thead>\n",
       "  <tbody>\n",
       "    <tr>\n",
       "      <th>370</th>\n",
       "      <td>shoplifting</td>\n",
       "      <td>Force</td>\n",
       "      <td>Willis Road</td>\n",
       "      <td>Under investigation</td>\n",
       "      <td>117597542</td>\n",
       "      <td>2024-03-01</td>\n",
       "    </tr>\n",
       "    <tr>\n",
       "      <th>173</th>\n",
       "      <td>drugs</td>\n",
       "      <td>Force</td>\n",
       "      <td>Aylward Street</td>\n",
       "      <td>Local resolution</td>\n",
       "      <td>117597591</td>\n",
       "      <td>2024-03-01</td>\n",
       "    </tr>\n",
       "    <tr>\n",
       "      <th>825</th>\n",
       "      <td>violent-crime</td>\n",
       "      <td>Force</td>\n",
       "      <td>Weymouth Road</td>\n",
       "      <td>Under investigation</td>\n",
       "      <td>117596474</td>\n",
       "      <td>2024-03-01</td>\n",
       "    </tr>\n",
       "    <tr>\n",
       "      <th>165</th>\n",
       "      <td>criminal-damage-arson</td>\n",
       "      <td>Force</td>\n",
       "      <td>Worcester Close</td>\n",
       "      <td>Under investigation</td>\n",
       "      <td>117598110</td>\n",
       "      <td>2024-03-01</td>\n",
       "    </tr>\n",
       "    <tr>\n",
       "      <th>574</th>\n",
       "      <td>violent-crime</td>\n",
       "      <td>Force</td>\n",
       "      <td>Parking Area</td>\n",
       "      <td>Unable to prosecute suspect</td>\n",
       "      <td>117597654</td>\n",
       "      <td>2024-03-01</td>\n",
       "    </tr>\n",
       "    <tr>\n",
       "      <th>355</th>\n",
       "      <td>robbery</td>\n",
       "      <td>Force</td>\n",
       "      <td>Petrol Station</td>\n",
       "      <td>Under investigation</td>\n",
       "      <td>117597865</td>\n",
       "      <td>2024-03-01</td>\n",
       "    </tr>\n",
       "    <tr>\n",
       "      <th>60</th>\n",
       "      <td>anti-social-behaviour</td>\n",
       "      <td>Force</td>\n",
       "      <td>Nightclub</td>\n",
       "      <td>None</td>\n",
       "      <td>117597467</td>\n",
       "      <td>2024-03-01</td>\n",
       "    </tr>\n",
       "    <tr>\n",
       "      <th>517</th>\n",
       "      <td>vehicle-crime</td>\n",
       "      <td>Force</td>\n",
       "      <td>Further/higher Educational Building</td>\n",
       "      <td>Under investigation</td>\n",
       "      <td>117597894</td>\n",
       "      <td>2024-03-01</td>\n",
       "    </tr>\n",
       "    <tr>\n",
       "      <th>833</th>\n",
       "      <td>violent-crime</td>\n",
       "      <td>Force</td>\n",
       "      <td>Nightclub</td>\n",
       "      <td>Under investigation</td>\n",
       "      <td>117596719</td>\n",
       "      <td>2024-03-01</td>\n",
       "    </tr>\n",
       "    <tr>\n",
       "      <th>239</th>\n",
       "      <td>other-theft</td>\n",
       "      <td>Force</td>\n",
       "      <td>Cottage Grove</td>\n",
       "      <td>Investigation complete; no suspect identified</td>\n",
       "      <td>117598212</td>\n",
       "      <td>2024-03-01</td>\n",
       "    </tr>\n",
       "  </tbody>\n",
       "</table>\n",
       "</div>"
      ],
      "text/plain": [
       "                  category location_type  \\\n",
       "370            shoplifting         Force   \n",
       "173                  drugs         Force   \n",
       "825          violent-crime         Force   \n",
       "165  criminal-damage-arson         Force   \n",
       "574          violent-crime         Force   \n",
       "355                robbery         Force   \n",
       "60   anti-social-behaviour         Force   \n",
       "517          vehicle-crime         Force   \n",
       "833          violent-crime         Force   \n",
       "239            other-theft         Force   \n",
       "\n",
       "                                 location  \\\n",
       "370                           Willis Road   \n",
       "173                        Aylward Street   \n",
       "825                         Weymouth Road   \n",
       "165                       Worcester Close   \n",
       "574                          Parking Area   \n",
       "355                        Petrol Station   \n",
       "60                              Nightclub   \n",
       "517   Further/higher Educational Building   \n",
       "833                             Nightclub   \n",
       "239                         Cottage Grove   \n",
       "\n",
       "                                    outcome_status         id      month  \n",
       "370                            Under investigation  117597542 2024-03-01  \n",
       "173                               Local resolution  117597591 2024-03-01  \n",
       "825                            Under investigation  117596474 2024-03-01  \n",
       "165                            Under investigation  117598110 2024-03-01  \n",
       "574                    Unable to prosecute suspect  117597654 2024-03-01  \n",
       "355                            Under investigation  117597865 2024-03-01  \n",
       "60                                            None  117597467 2024-03-01  \n",
       "517                            Under investigation  117597894 2024-03-01  \n",
       "833                            Under investigation  117596719 2024-03-01  \n",
       "239  Investigation complete; no suspect identified  117598212 2024-03-01  "
      ]
     },
     "execution_count": 10,
     "metadata": {},
     "output_type": "execute_result"
    }
   ],
   "source": [
    "location = []\n",
    "for row in df['location']:\n",
    "    crime_loc = row['street']['name']\n",
    "    crime_loc = crime_loc.replace('On or near', '')\n",
    "    location.append(crime_loc)\n",
    "\n",
    "df['location'] = location\n",
    "df.sample(10)"
   ]
  },
  {
   "cell_type": "code",
   "execution_count": 161,
   "id": "f5fc0b89-8b07-4c41-9651-8105163f2efa",
   "metadata": {},
   "outputs": [
    {
     "data": {
      "text/plain": [
       "([0, 1, 2, 3, 4],\n",
       " [Text(0, 0, 'violent-crime'),\n",
       "  Text(1, 0, 'shoplifting'),\n",
       "  Text(2, 0, 'public-order'),\n",
       "  Text(3, 0, 'anti-social-behaviour'),\n",
       "  Text(4, 0, 'criminal-damage-arson')])"
      ]
     },
     "execution_count": 161,
     "metadata": {},
     "output_type": "execute_result"
    },
    {
     "data": {
      "image/png": "[encoded data removed]",
      "text/plain": [
       "<Figure size 640x480 with 1 Axes>"
      ]
     },
     "metadata": {},
     "output_type": "display_data"
    }
   ],
   "source": [
    "top_5_crime = df['category'].value_counts()[:5]\n",
    "sns.barplot(top_5_crime)\n",
    "plt.xticks(rotation=45)"
   ]
  },
  {
   "cell_type": "code",
   "execution_count": 11,
   "id": "c9a5ba70-dba9-42d2-9b9c-04a1c731c42b",
   "metadata": {},
   "outputs": [
    {
     "data": {
      "text/plain": [
       "([0, 1, 2, 3, 4],\n",
       " [Text(0, 0, ' Parking Area'),\n",
       "  Text(1, 0, ' Supermarket'),\n",
       "  Text(2, 0, ' Guildhall Walk'),\n",
       "  Text(3, 0, \" Jacob's Street\"),\n",
       "  Text(4, 0, ' Shopping Area')])"
      ]
     },
     "execution_count": 11,
     "metadata": {},
     "output_type": "execute_result"
    },
    {
     "data": {
      "image/png": "[encoded data removed]",
      "text/plain": [
       "<Figure size 640x480 with 1 Axes>"
      ]
     },
     "metadata": {},
     "output_type": "display_data"
    }
   ],
   "source": [
    "top_5_loc = df['location'].value_counts()[:5]\n",
    "sns.barplot(top_5_loc)\n",
    "plt.xticks(rotation=45)"
   ]
  },
  {
   "cell_type": "code",
   "execution_count": 164,
   "id": "d907bec0-520e-44e0-8753-2d386ec42078",
   "metadata": {},
   "outputs": [
    {
     "data": {
      "text/plain": [
       "([0, 1], [Text(0, 0, 'Force'), Text(1, 0, 'BTP')])"
      ]
     },
     "execution_count": 164,
     "metadata": {},
     "output_type": "execute_result"
    },
    {
     "data": {
      "image/png": "[encoded data removed]",
      "text/plain": [
       "<Figure size 640x480 with 1 Axes>"
      ]
     },
     "metadata": {},
     "output_type": "display_data"
    }
   ],
   "source": [
    "loc_type = df['location_type'].value_counts()\n",
    "sns.barplot(loc_type)\n",
    "plt.xticks(rotation=45)"
   ]
  },
  {
   "cell_type": "code",
   "execution_count": 168,
   "id": "0cd5d746-4c2e-4a13-9e81-0a77784eb36f",
   "metadata": {},
   "outputs": [
    {
     "data": {
      "text/plain": [
       "([0, 1, 2, 3, 4],\n",
       " [Text(0, 0, 'Under investigation'),\n",
       "  Text(1, 0, 'Investigation complete; no suspect identified'),\n",
       "  Text(2, 0, 'Unable to prosecute suspect'),\n",
       "  Text(3, 0, 'None'),\n",
       "  Text(4, 0, 'Awaiting court outcome')])"
      ]
     },
     "execution_count": 168,
     "metadata": {},
     "output_type": "execute_result"
    },
    {
     "data": {
      "image/png": "[encoded data removed]",
      "text/plain": [
       "<Figure size 640x480 with 1 Axes>"
      ]
     },
     "metadata": {},
     "output_type": "display_data"
    }
   ],
   "source": [
    "status = df['outcome_status'].value_counts()[:5]\n",
    "sns.barplot(status)\n",
    "plt.xticks(rotation=90)"
   ]
  },
  {
   "cell_type": "code",
   "execution_count": 12,
   "id": "aa6f0141-8d09-4374-bf08-be33da18c223",
   "metadata": {},
   "outputs": [
    {
     "data": {
      "text/plain": [
       "(938, 6)"
      ]
     },
     "execution_count": 12,
     "metadata": {},
     "output_type": "execute_result"
    }
   ],
   "source": [
    "df.shape"
   ]
  },
  {
   "cell_type": "code",
   "execution_count": 13,
   "id": "38c5c5f9-3e9a-4458-aa1e-379e72e74851",
   "metadata": {},
   "outputs": [],
   "source": [
    "df.to_csv(\"Crimes_Port_2024_03\", index=False)"
   ]
  },
  {
   "cell_type": "code",
   "execution_count": null,
   "id": "ce6c002e-19e2-4345-a458-7e6c49c19260",
   "metadata": {},
   "outputs": [],
   "source": []
  }
 ],
 "metadata": {
  "kernelspec": {
   "display_name": "Python 3 (ipykernel)",
   "language": "python",
   "name": "python3"
  },
  "language_info": {
   "codemirror_mode": {
    "name": "ipython",
    "version": 3
   },
   "file_extension": ".py",
   "mimetype": "text/x-python",
   "name": "python",
   "nbconvert_exporter": "python",
   "pygments_lexer": "ipython3",
   "version": "3.9.7"
  }
 },
 "nbformat": 4,
 "nbformat_minor": 5
}
