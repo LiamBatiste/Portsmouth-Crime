{
 "cells": [
  {
   "cell_type": "code",
   "execution_count": 1,
   "id": "16c37a17-60cd-490c-b4c5-5aefde48d4d8",
   "metadata": {},
   "outputs": [
    {
     "name": "stdout",
     "output_type": "stream",
     "text": [
      "done\n"
     ]
    }
   ],
   "source": [
    "import requests \n",
    "import pandas as pd\n",
    "import numpy \n",
    "import seaborn as sns\n",
    "import matplotlib.pyplot as plt\n",
    "print(\"done\")"
   ]
  },
  {
   "cell_type": "code",
   "execution_count": 2,
   "id": "9f4cb998-1ee5-4403-b3f8-2ead2ab5bdf2",
   "metadata": {},
   "outputs": [
    {
     "name": "stdout",
     "output_type": "stream",
     "text": [
      "<Response [200]>\n"
     ]
    }
   ],
   "source": [
    "# Where is the majoirty of crime occuring?\n",
    "# What is the most frequent category of offence? \n",
    "# Is there a trend in category of offence over time? (time series analysis)\n",
    "\n",
    "params = {\n",
    "    'lat': 50.805832,  # Latitude of Portsmouth\n",
    "    'lng': -1.087222,   # Longitude of Portsmouth  \n",
    "    'date': '2023-10'\n",
    "}\n",
    "\n",
    "response = requests.get(\"https://data.police.uk/api/crimes-street/all-crime\", params=params)\n",
    "print(response)"
   ]
  },
  {
   "cell_type": "code",
   "execution_count": 3,
   "id": "6499bc4e-fc55-4082-bfdb-cffe83b9fef7",
   "metadata": {
    "scrolled": true
   },
   "outputs": [
    {
     "data": {
      "text/html": [
       "<div>\n",
       "<style scoped>\n",
       "    .dataframe tbody tr th:only-of-type {\n",
       "        vertical-align: middle;\n",
       "    }\n",
       "\n",
       "    .dataframe tbody tr th {\n",
       "        vertical-align: top;\n",
       "    }\n",
       "\n",
       "    .dataframe thead th {\n",
       "        text-align: right;\n",
       "    }\n",
       "</style>\n",
       "<table border=\"1\" class=\"dataframe\">\n",
       "  <thead>\n",
       "    <tr style=\"text-align: right;\">\n",
       "      <th></th>\n",
       "      <th>category</th>\n",
       "      <th>location_type</th>\n",
       "      <th>location</th>\n",
       "      <th>outcome_status</th>\n",
       "      <th>id</th>\n",
       "      <th>month</th>\n",
       "    </tr>\n",
       "  </thead>\n",
       "  <tbody>\n",
       "    <tr>\n",
       "      <th>0</th>\n",
       "      <td>anti-social-behaviour</td>\n",
       "      <td>Force</td>\n",
       "      <td>{'latitude': '50.813457', 'street': {'id': 1554834, 'name': 'On or near Kingston Crescent'}, 'longitude': '-1.082842'}</td>\n",
       "      <td>None</td>\n",
       "      <td>113989145</td>\n",
       "      <td>2023-10</td>\n",
       "    </tr>\n",
       "    <tr>\n",
       "      <th>1</th>\n",
       "      <td>anti-social-behaviour</td>\n",
       "      <td>Force</td>\n",
       "      <td>{'latitude': '50.800385', 'street': {'id': 1554273, 'name': 'On or near Kingswell Street'}, 'longitude': '-1.091286'}</td>\n",
       "      <td>None</td>\n",
       "      <td>113962647</td>\n",
       "      <td>2023-10</td>\n",
       "    </tr>\n",
       "    <tr>\n",
       "      <th>2</th>\n",
       "      <td>anti-social-behaviour</td>\n",
       "      <td>Force</td>\n",
       "      <td>{'latitude': '50.799193', 'street': {'id': 1554345, 'name': 'On or near Surrey Street'}, 'longitude': '-1.090585'}</td>\n",
       "      <td>None</td>\n",
       "      <td>113986839</td>\n",
       "      <td>2023-10</td>\n",
       "    </tr>\n",
       "    <tr>\n",
       "      <th>3</th>\n",
       "      <td>anti-social-behaviour</td>\n",
       "      <td>Force</td>\n",
       "      <td>{'latitude': '50.800380', 'street': {'id': 1554290, 'name': 'On or near Spring Street'}, 'longitude': '-1.091811'}</td>\n",
       "      <td>None</td>\n",
       "      <td>113951312</td>\n",
       "      <td>2023-10</td>\n",
       "    </tr>\n",
       "    <tr>\n",
       "      <th>4</th>\n",
       "      <td>anti-social-behaviour</td>\n",
       "      <td>Force</td>\n",
       "      <td>{'latitude': '50.796334', 'street': {'id': 1554204, 'name': 'On or near Guildhall Walk'}, 'longitude': '-1.093081'}</td>\n",
       "      <td>None</td>\n",
       "      <td>113987239</td>\n",
       "      <td>2023-10</td>\n",
       "    </tr>\n",
       "  </tbody>\n",
       "</table>\n",
       "</div>"
      ],
      "text/plain": [
       "                category location_type  \\\n",
       "0  anti-social-behaviour         Force   \n",
       "1  anti-social-behaviour         Force   \n",
       "2  anti-social-behaviour         Force   \n",
       "3  anti-social-behaviour         Force   \n",
       "4  anti-social-behaviour         Force   \n",
       "\n",
       "                                                                                                                 location  \\\n",
       "0  {'latitude': '50.813457', 'street': {'id': 1554834, 'name': 'On or near Kingston Crescent'}, 'longitude': '-1.082842'}   \n",
       "1   {'latitude': '50.800385', 'street': {'id': 1554273, 'name': 'On or near Kingswell Street'}, 'longitude': '-1.091286'}   \n",
       "2      {'latitude': '50.799193', 'street': {'id': 1554345, 'name': 'On or near Surrey Street'}, 'longitude': '-1.090585'}   \n",
       "3      {'latitude': '50.800380', 'street': {'id': 1554290, 'name': 'On or near Spring Street'}, 'longitude': '-1.091811'}   \n",
       "4     {'latitude': '50.796334', 'street': {'id': 1554204, 'name': 'On or near Guildhall Walk'}, 'longitude': '-1.093081'}   \n",
       "\n",
       "  outcome_status         id    month  \n",
       "0           None  113989145  2023-10  \n",
       "1           None  113962647  2023-10  \n",
       "2           None  113986839  2023-10  \n",
       "3           None  113951312  2023-10  \n",
       "4           None  113987239  2023-10  "
      ]
     },
     "execution_count": 3,
     "metadata": {},
     "output_type": "execute_result"
    }
   ],
   "source": [
    "crime_json = response.json()\n",
    "df = pd.DataFrame(crime_json)\n",
    "pd.set_option('display.max_columns', None)\n",
    "pd.set_option('display.max_colwidth', None)\n",
    "df.drop(labels=['context', 'persistent_id', 'location_subtype'], axis=1, inplace=True)\n",
    "df.head()"
   ]
  },
  {
   "cell_type": "code",
   "execution_count": 4,
   "id": "4027e4a7-3c67-4305-8b0c-b0a721bbc02a",
   "metadata": {},
   "outputs": [
    {
     "name": "stdout",
     "output_type": "stream",
     "text": [
      "category: 0\n",
      "location_type: 0\n",
      "location: 0\n",
      "outcome_status: 98\n",
      "id: 0\n",
      "month: 0\n"
     ]
    }
   ],
   "source": [
    "for row in df:\n",
    "    print(f\"{row}: \" + str(df[row].isnull().sum()))"
   ]
  },
  {
   "cell_type": "code",
   "execution_count": 5,
   "id": "5ba16f00-cac2-4896-9b76-23d3a9063ffa",
   "metadata": {
    "scrolled": true
   },
   "outputs": [
    {
     "data": {
      "text/plain": [
       "0"
      ]
     },
     "execution_count": 5,
     "metadata": {},
     "output_type": "execute_result"
    }
   ],
   "source": [
    "df['id'].duplicated().sum()"
   ]
  },
  {
   "cell_type": "code",
   "execution_count": 6,
   "id": "610fac52-8780-4d2c-8dcc-7a83ed0fd49b",
   "metadata": {},
   "outputs": [
    {
     "data": {
      "text/plain": [
       "2023-10    1018\n",
       "Name: month, dtype: int64"
      ]
     },
     "execution_count": 6,
     "metadata": {},
     "output_type": "execute_result"
    }
   ],
   "source": [
    "df['month'].value_counts()"
   ]
  },
  {
   "cell_type": "code",
   "execution_count": 7,
   "id": "cb47acde-ce1d-4617-84fa-a65284f857b5",
   "metadata": {
    "scrolled": true
   },
   "outputs": [
    {
     "data": {
      "text/plain": [
       "category                  object\n",
       "location_type             object\n",
       "location                  object\n",
       "outcome_status            object\n",
       "id                         int64\n",
       "month             datetime64[ns]\n",
       "dtype: object"
      ]
     },
     "execution_count": 7,
     "metadata": {},
     "output_type": "execute_result"
    }
   ],
   "source": [
    "df.dtypes\n",
    "df['month'] = pd.to_datetime(df['month'])\n",
    "df.dtypes"
   ]
  },
  {
   "cell_type": "code",
   "execution_count": 8,
   "id": "5d971914-7252-43ce-8ac4-c868690b1583",
   "metadata": {},
   "outputs": [
    {
     "data": {
      "text/html": [
       "<div>\n",
       "<style scoped>\n",
       "    .dataframe tbody tr th:only-of-type {\n",
       "        vertical-align: middle;\n",
       "    }\n",
       "\n",
       "    .dataframe tbody tr th {\n",
       "        vertical-align: top;\n",
       "    }\n",
       "\n",
       "    .dataframe thead th {\n",
       "        text-align: right;\n",
       "    }\n",
       "</style>\n",
       "<table border=\"1\" class=\"dataframe\">\n",
       "  <thead>\n",
       "    <tr style=\"text-align: right;\">\n",
       "      <th></th>\n",
       "      <th>category</th>\n",
       "      <th>location_type</th>\n",
       "      <th>location</th>\n",
       "      <th>outcome_status</th>\n",
       "      <th>id</th>\n",
       "      <th>month</th>\n",
       "    </tr>\n",
       "  </thead>\n",
       "  <tbody>\n",
       "    <tr>\n",
       "      <th>130</th>\n",
       "      <td>burglary</td>\n",
       "      <td>Force</td>\n",
       "      <td>{'latitude': '50.796451', 'street': {'id': 1554063, 'name': 'On or near White Swan Road'}, 'longitude': '-1.094214'}</td>\n",
       "      <td>Status update unavailable</td>\n",
       "      <td>113947714</td>\n",
       "      <td>2023-10-01</td>\n",
       "    </tr>\n",
       "    <tr>\n",
       "      <th>163</th>\n",
       "      <td>criminal-damage-arson</td>\n",
       "      <td>Force</td>\n",
       "      <td>{'latitude': '50.801709', 'street': {'id': 1554583, 'name': 'On or near St Faiths Road'}, 'longitude': '-1.085839'}</td>\n",
       "      <td>Investigation complete; no suspect identified</td>\n",
       "      <td>113987114</td>\n",
       "      <td>2023-10-01</td>\n",
       "    </tr>\n",
       "    <tr>\n",
       "      <th>898</th>\n",
       "      <td>violent-crime</td>\n",
       "      <td>Force</td>\n",
       "      <td>{'latitude': '50.794035', 'street': {'id': 1554671, 'name': 'On or near Sun Terrace'}, 'longitude': '-1.085393'}</td>\n",
       "      <td>Unable to prosecute suspect</td>\n",
       "      <td>113963832</td>\n",
       "      <td>2023-10-01</td>\n",
       "    </tr>\n",
       "    <tr>\n",
       "      <th>897</th>\n",
       "      <td>violent-crime</td>\n",
       "      <td>Force</td>\n",
       "      <td>{'latitude': '50.806055', 'street': {'id': 1555411, 'name': 'On or near Shearer Road'}, 'longitude': '-1.072485'}</td>\n",
       "      <td>Unable to prosecute suspect</td>\n",
       "      <td>113980976</td>\n",
       "      <td>2023-10-01</td>\n",
       "    </tr>\n",
       "    <tr>\n",
       "      <th>967</th>\n",
       "      <td>violent-crime</td>\n",
       "      <td>Force</td>\n",
       "      <td>{'latitude': '50.795643', 'street': {'id': 1554468, 'name': 'On or near Plymouth Street'}, 'longitude': '-1.087447'}</td>\n",
       "      <td>Local resolution</td>\n",
       "      <td>113953081</td>\n",
       "      <td>2023-10-01</td>\n",
       "    </tr>\n",
       "    <tr>\n",
       "      <th>108</th>\n",
       "      <td>bicycle-theft</td>\n",
       "      <td>Force</td>\n",
       "      <td>{'latitude': '50.800326', 'street': {'id': 1554439, 'name': 'On or near Shopping Area'}, 'longitude': '-1.088392'}</td>\n",
       "      <td>Investigation complete; no suspect identified</td>\n",
       "      <td>113952581</td>\n",
       "      <td>2023-10-01</td>\n",
       "    </tr>\n",
       "    <tr>\n",
       "      <th>680</th>\n",
       "      <td>violent-crime</td>\n",
       "      <td>Force</td>\n",
       "      <td>{'latitude': '50.797944', 'street': {'id': 1553756, 'name': 'On or near Supermarket'}, 'longitude': '-1.105906'}</td>\n",
       "      <td>Status update unavailable</td>\n",
       "      <td>113972943</td>\n",
       "      <td>2023-10-01</td>\n",
       "    </tr>\n",
       "    <tr>\n",
       "      <th>71</th>\n",
       "      <td>anti-social-behaviour</td>\n",
       "      <td>Force</td>\n",
       "      <td>{'latitude': '50.792509', 'street': {'id': 1554048, 'name': 'On or near Landport Terrace'}, 'longitude': '-1.096163'}</td>\n",
       "      <td>None</td>\n",
       "      <td>113977169</td>\n",
       "      <td>2023-10-01</td>\n",
       "    </tr>\n",
       "    <tr>\n",
       "      <th>285</th>\n",
       "      <td>other-theft</td>\n",
       "      <td>Force</td>\n",
       "      <td>{'latitude': '50.795982', 'street': {'id': 1554646, 'name': 'On or near Tyseley Road'}, 'longitude': '-1.086008'}</td>\n",
       "      <td>Unable to prosecute suspect</td>\n",
       "      <td>113974650</td>\n",
       "      <td>2023-10-01</td>\n",
       "    </tr>\n",
       "    <tr>\n",
       "      <th>708</th>\n",
       "      <td>violent-crime</td>\n",
       "      <td>Force</td>\n",
       "      <td>{'latitude': '50.801624', 'street': {'id': 1553862, 'name': 'On or near Cumberland Street'}, 'longitude': '-1.101493'}</td>\n",
       "      <td>Action to be taken by another organisation</td>\n",
       "      <td>113979058</td>\n",
       "      <td>2023-10-01</td>\n",
       "    </tr>\n",
       "  </tbody>\n",
       "</table>\n",
       "</div>"
      ],
      "text/plain": [
       "                  category location_type  \\\n",
       "130               burglary         Force   \n",
       "163  criminal-damage-arson         Force   \n",
       "898          violent-crime         Force   \n",
       "897          violent-crime         Force   \n",
       "967          violent-crime         Force   \n",
       "108          bicycle-theft         Force   \n",
       "680          violent-crime         Force   \n",
       "71   anti-social-behaviour         Force   \n",
       "285            other-theft         Force   \n",
       "708          violent-crime         Force   \n",
       "\n",
       "                                                                                                                   location  \\\n",
       "130    {'latitude': '50.796451', 'street': {'id': 1554063, 'name': 'On or near White Swan Road'}, 'longitude': '-1.094214'}   \n",
       "163     {'latitude': '50.801709', 'street': {'id': 1554583, 'name': 'On or near St Faiths Road'}, 'longitude': '-1.085839'}   \n",
       "898        {'latitude': '50.794035', 'street': {'id': 1554671, 'name': 'On or near Sun Terrace'}, 'longitude': '-1.085393'}   \n",
       "897       {'latitude': '50.806055', 'street': {'id': 1555411, 'name': 'On or near Shearer Road'}, 'longitude': '-1.072485'}   \n",
       "967    {'latitude': '50.795643', 'street': {'id': 1554468, 'name': 'On or near Plymouth Street'}, 'longitude': '-1.087447'}   \n",
       "108      {'latitude': '50.800326', 'street': {'id': 1554439, 'name': 'On or near Shopping Area'}, 'longitude': '-1.088392'}   \n",
       "680        {'latitude': '50.797944', 'street': {'id': 1553756, 'name': 'On or near Supermarket'}, 'longitude': '-1.105906'}   \n",
       "71    {'latitude': '50.792509', 'street': {'id': 1554048, 'name': 'On or near Landport Terrace'}, 'longitude': '-1.096163'}   \n",
       "285       {'latitude': '50.795982', 'street': {'id': 1554646, 'name': 'On or near Tyseley Road'}, 'longitude': '-1.086008'}   \n",
       "708  {'latitude': '50.801624', 'street': {'id': 1553862, 'name': 'On or near Cumberland Street'}, 'longitude': '-1.101493'}   \n",
       "\n",
       "                                    outcome_status         id      month  \n",
       "130                      Status update unavailable  113947714 2023-10-01  \n",
       "163  Investigation complete; no suspect identified  113987114 2023-10-01  \n",
       "898                    Unable to prosecute suspect  113963832 2023-10-01  \n",
       "897                    Unable to prosecute suspect  113980976 2023-10-01  \n",
       "967                               Local resolution  113953081 2023-10-01  \n",
       "108  Investigation complete; no suspect identified  113952581 2023-10-01  \n",
       "680                      Status update unavailable  113972943 2023-10-01  \n",
       "71                                            None  113977169 2023-10-01  \n",
       "285                    Unable to prosecute suspect  113974650 2023-10-01  \n",
       "708     Action to be taken by another organisation  113979058 2023-10-01  "
      ]
     },
     "execution_count": 8,
     "metadata": {},
     "output_type": "execute_result"
    }
   ],
   "source": [
    "outcome_status = []\n",
    "for row in df['outcome_status']:\n",
    "    if row is not None:\n",
    "        outcome_status.append(row['category'])\n",
    "    else:\n",
    "        outcome_status.append('None')\n",
    "\n",
    "df['outcome_status'] = outcome_status\n",
    "df.sample(10)"
   ]
  },
  {
   "cell_type": "code",
   "execution_count": 9,
   "id": "b00bc9e2-8136-4a45-9980-0e6ec6afc179",
   "metadata": {},
   "outputs": [
    {
     "data": {
      "text/html": [
       "<div>\n",
       "<style scoped>\n",
       "    .dataframe tbody tr th:only-of-type {\n",
       "        vertical-align: middle;\n",
       "    }\n",
       "\n",
       "    .dataframe tbody tr th {\n",
       "        vertical-align: top;\n",
       "    }\n",
       "\n",
       "    .dataframe thead th {\n",
       "        text-align: right;\n",
       "    }\n",
       "</style>\n",
       "<table border=\"1\" class=\"dataframe\">\n",
       "  <thead>\n",
       "    <tr style=\"text-align: right;\">\n",
       "      <th></th>\n",
       "      <th>category</th>\n",
       "      <th>location_type</th>\n",
       "      <th>location</th>\n",
       "      <th>outcome_status</th>\n",
       "      <th>id</th>\n",
       "      <th>month</th>\n",
       "    </tr>\n",
       "  </thead>\n",
       "  <tbody>\n",
       "    <tr>\n",
       "      <th>267</th>\n",
       "      <td>other-theft</td>\n",
       "      <td>Force</td>\n",
       "      <td>Trafalgar Place</td>\n",
       "      <td>Status update unavailable</td>\n",
       "      <td>113986937</td>\n",
       "      <td>2023-10-01</td>\n",
       "    </tr>\n",
       "    <tr>\n",
       "      <th>232</th>\n",
       "      <td>drugs</td>\n",
       "      <td>Force</td>\n",
       "      <td>St Michael's Road</td>\n",
       "      <td>Local resolution</td>\n",
       "      <td>113949156</td>\n",
       "      <td>2023-10-01</td>\n",
       "    </tr>\n",
       "    <tr>\n",
       "      <th>564</th>\n",
       "      <td>vehicle-crime</td>\n",
       "      <td>Force</td>\n",
       "      <td>St Andrews Road</td>\n",
       "      <td>Unable to prosecute suspect</td>\n",
       "      <td>113980991</td>\n",
       "      <td>2023-10-01</td>\n",
       "    </tr>\n",
       "    <tr>\n",
       "      <th>281</th>\n",
       "      <td>other-theft</td>\n",
       "      <td>Force</td>\n",
       "      <td>Supermarket</td>\n",
       "      <td>Unable to prosecute suspect</td>\n",
       "      <td>113969704</td>\n",
       "      <td>2023-10-01</td>\n",
       "    </tr>\n",
       "    <tr>\n",
       "      <th>640</th>\n",
       "      <td>violent-crime</td>\n",
       "      <td>Force</td>\n",
       "      <td>Guildhall Walk</td>\n",
       "      <td>Status update unavailable</td>\n",
       "      <td>113988853</td>\n",
       "      <td>2023-10-01</td>\n",
       "    </tr>\n",
       "    <tr>\n",
       "      <th>500</th>\n",
       "      <td>shoplifting</td>\n",
       "      <td>Force</td>\n",
       "      <td>Supermarket</td>\n",
       "      <td>Investigation complete; no suspect identified</td>\n",
       "      <td>113981900</td>\n",
       "      <td>2023-10-01</td>\n",
       "    </tr>\n",
       "    <tr>\n",
       "      <th>883</th>\n",
       "      <td>violent-crime</td>\n",
       "      <td>Force</td>\n",
       "      <td>Westminster Place</td>\n",
       "      <td>Unable to prosecute suspect</td>\n",
       "      <td>113977702</td>\n",
       "      <td>2023-10-01</td>\n",
       "    </tr>\n",
       "    <tr>\n",
       "      <th>468</th>\n",
       "      <td>shoplifting</td>\n",
       "      <td>Force</td>\n",
       "      <td>Petrol Station</td>\n",
       "      <td>Unable to prosecute suspect</td>\n",
       "      <td>113973034</td>\n",
       "      <td>2023-10-01</td>\n",
       "    </tr>\n",
       "    <tr>\n",
       "      <th>959</th>\n",
       "      <td>violent-crime</td>\n",
       "      <td>Force</td>\n",
       "      <td>Stamshaw Road</td>\n",
       "      <td>Status update unavailable</td>\n",
       "      <td>113985338</td>\n",
       "      <td>2023-10-01</td>\n",
       "    </tr>\n",
       "    <tr>\n",
       "      <th>80</th>\n",
       "      <td>anti-social-behaviour</td>\n",
       "      <td>Force</td>\n",
       "      <td>St James's Street</td>\n",
       "      <td>None</td>\n",
       "      <td>113984717</td>\n",
       "      <td>2023-10-01</td>\n",
       "    </tr>\n",
       "  </tbody>\n",
       "</table>\n",
       "</div>"
      ],
      "text/plain": [
       "                  category location_type            location  \\\n",
       "267            other-theft         Force     Trafalgar Place   \n",
       "232                  drugs         Force   St Michael's Road   \n",
       "564          vehicle-crime         Force     St Andrews Road   \n",
       "281            other-theft         Force         Supermarket   \n",
       "640          violent-crime         Force      Guildhall Walk   \n",
       "500            shoplifting         Force         Supermarket   \n",
       "883          violent-crime         Force   Westminster Place   \n",
       "468            shoplifting         Force      Petrol Station   \n",
       "959          violent-crime         Force       Stamshaw Road   \n",
       "80   anti-social-behaviour         Force   St James's Street   \n",
       "\n",
       "                                    outcome_status         id      month  \n",
       "267                      Status update unavailable  113986937 2023-10-01  \n",
       "232                               Local resolution  113949156 2023-10-01  \n",
       "564                    Unable to prosecute suspect  113980991 2023-10-01  \n",
       "281                    Unable to prosecute suspect  113969704 2023-10-01  \n",
       "640                      Status update unavailable  113988853 2023-10-01  \n",
       "500  Investigation complete; no suspect identified  113981900 2023-10-01  \n",
       "883                    Unable to prosecute suspect  113977702 2023-10-01  \n",
       "468                    Unable to prosecute suspect  113973034 2023-10-01  \n",
       "959                      Status update unavailable  113985338 2023-10-01  \n",
       "80                                            None  113984717 2023-10-01  "
      ]
     },
     "execution_count": 9,
     "metadata": {},
     "output_type": "execute_result"
    }
   ],
   "source": [
    "location = []\n",
    "for row in df['location']:\n",
    "    crime_loc = row['street']['name']\n",
    "    crime_loc = crime_loc.replace('On or near', '')\n",
    "    location.append(crime_loc)\n",
    "\n",
    "df['location'] = location\n",
    "df.sample(10)"
   ]
  },
  {
   "cell_type": "code",
   "execution_count": 10,
   "id": "f5fc0b89-8b07-4c41-9651-8105163f2efa",
   "metadata": {},
   "outputs": [
    {
     "data": {
      "text/plain": [
       "([0, 1, 2, 3, 4],\n",
       " [Text(0, 0, 'violent-crime'),\n",
       "  Text(1, 0, 'anti-social-behaviour'),\n",
       "  Text(2, 0, 'public-order'),\n",
       "  Text(3, 0, 'shoplifting'),\n",
       "  Text(4, 0, 'vehicle-crime')])"
      ]
     },
     "execution_count": 10,
     "metadata": {},
     "output_type": "execute_result"
    },
    {
     "data": {
      "image/png": "[encoded data removed]",
      "text/plain": [
       "<Figure size 640x480 with 1 Axes>"
      ]
     },
     "metadata": {},
     "output_type": "display_data"
    }
   ],
   "source": [
    "top_5_crime = df['category'].value_counts()[:5]\n",
    "sns.barplot(top_5_crime, )\n",
    "plt.xticks(rotation=45)"
   ]
  },
  {
   "cell_type": "code",
   "execution_count": 11,
   "id": "c9a5ba70-dba9-42d2-9b9c-04a1c731c42b",
   "metadata": {},
   "outputs": [
    {
     "data": {
      "text/plain": [
       "([0, 1, 2, 3, 4],\n",
       " [Text(0, 0, ' Parking Area'),\n",
       "  Text(1, 0, ' Supermarket'),\n",
       "  Text(2, 0, ' Guildhall Walk'),\n",
       "  Text(3, 0, ' Shopping Area'),\n",
       "  Text(4, 0, ' Further/higher Educational Building')])"
      ]
     },
     "execution_count": 11,
     "metadata": {},
     "output_type": "execute_result"
    },
    {
     "data": {
      "image/png": "[encoded data removed]",
      "text/plain": [
       "<Figure size 640x480 with 1 Axes>"
      ]
     },
     "metadata": {},
     "output_type": "display_data"
    }
   ],
   "source": [
    "top_5_loc = df['location'].value_counts()[:5]\n",
    "sns.barplot(top_5_loc)\n",
    "plt.xticks(rotation=45)"
   ]
  },
  {
   "cell_type": "code",
   "execution_count": 12,
   "id": "d907bec0-520e-44e0-8753-2d386ec42078",
   "metadata": {},
   "outputs": [
    {
     "data": {
      "text/plain": [
       "([0, 1], [Text(0, 0, 'Force'), Text(1, 0, 'BTP')])"
      ]
     },
     "execution_count": 12,
     "metadata": {},
     "output_type": "execute_result"
    },
    {
     "data": {
      "image/png": "[encoded data removed]",
      "text/plain": [
       "<Figure size 640x480 with 1 Axes>"
      ]
     },
     "metadata": {},
     "output_type": "display_data"
    }
   ],
   "source": [
    "loc_type = df['location_type'].value_counts()\n",
    "sns.barplot(loc_type)\n",
    "plt.xticks(rotation=45)"
   ]
  },
  {
   "cell_type": "code",
   "execution_count": 13,
   "id": "0cd5d746-4c2e-4a13-9e81-0a77784eb36f",
   "metadata": {},
   "outputs": [
    {
     "data": {
      "text/plain": [
       "([0, 1, 2, 3, 4],\n",
       " [Text(0, 0, 'Investigation complete; no suspect identified'),\n",
       "  Text(1, 0, 'Unable to prosecute suspect'),\n",
       "  Text(2, 0, 'Status update unavailable'),\n",
       "  Text(3, 0, 'None'),\n",
       "  Text(4, 0, 'Local resolution')])"
      ]
     },
     "execution_count": 13,
     "metadata": {},
     "output_type": "execute_result"
    },
    {
     "data": {
      "image/png": "[encoded data removed]",
      "text/plain": [
       "<Figure size 640x480 with 1 Axes>"
      ]
     },
     "metadata": {},
     "output_type": "display_data"
    }
   ],
   "source": [
    "status = df['outcome_status'].value_counts()[:5]\n",
    "sns.barplot(status)\n",
    "plt.xticks(rotation=90)"
   ]
  },
  {
   "cell_type": "code",
   "execution_count": 14,
   "id": "aa6f0141-8d09-4374-bf08-be33da18c223",
   "metadata": {},
   "outputs": [
    {
     "data": {
      "text/plain": [
       "(1018, 6)"
      ]
     },
     "execution_count": 14,
     "metadata": {},
     "output_type": "execute_result"
    }
   ],
   "source": [
    "df.shape\n"
   ]
  },
  {
   "cell_type": "code",
   "execution_count": 15,
   "id": "b2ac774c-c20f-4972-b079-b0850c0e365e",
   "metadata": {},
   "outputs": [],
   "source": [
    "df.to_csv(\"Crimes_Port_2023_10\", index=False)"
   ]
  },
  {
   "cell_type": "code",
   "execution_count": null,
   "id": "cbf228c4-645f-4489-979e-f11f3ad6ce54",
   "metadata": {},
   "outputs": [],
   "source": []
  }
 ],
 "metadata": {
  "kernelspec": {
   "display_name": "Python 3 (ipykernel)",
   "language": "python",
   "name": "python3"
  },
  "language_info": {
   "codemirror_mode": {
    "name": "ipython",
    "version": 3
   },
   "file_extension": ".py",
   "mimetype": "text/x-python",
   "name": "python",
   "nbconvert_exporter": "python",
   "pygments_lexer": "ipython3",
   "version": "3.9.7"
  }
 },
 "nbformat": 4,
 "nbformat_minor": 5
}
