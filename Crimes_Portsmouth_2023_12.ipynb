{
 "cells": [
  {
   "cell_type": "code",
   "execution_count": 1,
   "id": "16c37a17-60cd-490c-b4c5-5aefde48d4d8",
   "metadata": {},
   "outputs": [
    {
     "name": "stdout",
     "output_type": "stream",
     "text": [
      "done\n"
     ]
    }
   ],
   "source": [
    "import requests \n",
    "import pandas as pd\n",
    "import numpy \n",
    "import seaborn as sns\n",
    "import matplotlib.pyplot as plt\n",
    "print(\"done\")"
   ]
  },
  {
   "cell_type": "code",
   "execution_count": 3,
   "id": "9f4cb998-1ee5-4403-b3f8-2ead2ab5bdf2",
   "metadata": {},
   "outputs": [
    {
     "name": "stdout",
     "output_type": "stream",
     "text": [
      "<Response [200]>\n"
     ]
    }
   ],
   "source": [
    "# Where is the majoirty of crime occuring?\n",
    "# What is the most frequent category of offence? \n",
    "# Is there a trend in category of offence over time? (time series analysis)\n",
    "\n",
    "params = {\n",
    "    'lat': 50.805832,  # Latitude of Portsmouth\n",
    "    'lng': -1.087222,   # Longitude of Portsmouth  \n",
    "    'date': '2023-12'\n",
    "}\n",
    "\n",
    "response = requests.get(\"https://data.police.uk/api/crimes-street/all-crime\", params=params)\n",
    "print(response)"
   ]
  },
  {
   "cell_type": "code",
   "execution_count": 4,
   "id": "6499bc4e-fc55-4082-bfdb-cffe83b9fef7",
   "metadata": {
    "scrolled": true
   },
   "outputs": [
    {
     "data": {
      "text/html": [
       "<div>\n",
       "<style scoped>\n",
       "    .dataframe tbody tr th:only-of-type {\n",
       "        vertical-align: middle;\n",
       "    }\n",
       "\n",
       "    .dataframe tbody tr th {\n",
       "        vertical-align: top;\n",
       "    }\n",
       "\n",
       "    .dataframe thead th {\n",
       "        text-align: right;\n",
       "    }\n",
       "</style>\n",
       "<table border=\"1\" class=\"dataframe\">\n",
       "  <thead>\n",
       "    <tr style=\"text-align: right;\">\n",
       "      <th></th>\n",
       "      <th>category</th>\n",
       "      <th>location_type</th>\n",
       "      <th>location</th>\n",
       "      <th>outcome_status</th>\n",
       "      <th>id</th>\n",
       "      <th>month</th>\n",
       "    </tr>\n",
       "  </thead>\n",
       "  <tbody>\n",
       "    <tr>\n",
       "      <th>0</th>\n",
       "      <td>anti-social-behaviour</td>\n",
       "      <td>Force</td>\n",
       "      <td>{'latitude': '50.800385', 'street': {'id': 1554273, 'name': 'On or near Kingswell Street'}, 'longitude': '-1.091286'}</td>\n",
       "      <td>None</td>\n",
       "      <td>115403022</td>\n",
       "      <td>2023-12</td>\n",
       "    </tr>\n",
       "    <tr>\n",
       "      <th>1</th>\n",
       "      <td>anti-social-behaviour</td>\n",
       "      <td>Force</td>\n",
       "      <td>{'latitude': '50.799526', 'street': {'id': 1554494, 'name': 'On or near Lower Church Path'}, 'longitude': '-1.088436'}</td>\n",
       "      <td>None</td>\n",
       "      <td>115402750</td>\n",
       "      <td>2023-12</td>\n",
       "    </tr>\n",
       "    <tr>\n",
       "      <th>2</th>\n",
       "      <td>anti-social-behaviour</td>\n",
       "      <td>Force</td>\n",
       "      <td>{'latitude': '50.800470', 'street': {'id': 1553879, 'name': 'On or near Prince George Street'}, 'longitude': '-1.102324'}</td>\n",
       "      <td>None</td>\n",
       "      <td>115403050</td>\n",
       "      <td>2023-12</td>\n",
       "    </tr>\n",
       "    <tr>\n",
       "      <th>3</th>\n",
       "      <td>anti-social-behaviour</td>\n",
       "      <td>Force</td>\n",
       "      <td>{'latitude': '50.803931', 'street': {'id': 1554940, 'name': 'On or near Foster Road'}, 'longitude': '-1.081283'}</td>\n",
       "      <td>None</td>\n",
       "      <td>115403843</td>\n",
       "      <td>2023-12</td>\n",
       "    </tr>\n",
       "    <tr>\n",
       "      <th>4</th>\n",
       "      <td>anti-social-behaviour</td>\n",
       "      <td>Force</td>\n",
       "      <td>{'latitude': '50.804537', 'street': {'id': 1555775, 'name': 'On or near Bowler Avenue'}, 'longitude': '-1.064738'}</td>\n",
       "      <td>None</td>\n",
       "      <td>115403953</td>\n",
       "      <td>2023-12</td>\n",
       "    </tr>\n",
       "  </tbody>\n",
       "</table>\n",
       "</div>"
      ],
      "text/plain": [
       "                category location_type  \\\n",
       "0  anti-social-behaviour         Force   \n",
       "1  anti-social-behaviour         Force   \n",
       "2  anti-social-behaviour         Force   \n",
       "3  anti-social-behaviour         Force   \n",
       "4  anti-social-behaviour         Force   \n",
       "\n",
       "                                                                                                                    location  \\\n",
       "0      {'latitude': '50.800385', 'street': {'id': 1554273, 'name': 'On or near Kingswell Street'}, 'longitude': '-1.091286'}   \n",
       "1     {'latitude': '50.799526', 'street': {'id': 1554494, 'name': 'On or near Lower Church Path'}, 'longitude': '-1.088436'}   \n",
       "2  {'latitude': '50.800470', 'street': {'id': 1553879, 'name': 'On or near Prince George Street'}, 'longitude': '-1.102324'}   \n",
       "3           {'latitude': '50.803931', 'street': {'id': 1554940, 'name': 'On or near Foster Road'}, 'longitude': '-1.081283'}   \n",
       "4         {'latitude': '50.804537', 'street': {'id': 1555775, 'name': 'On or near Bowler Avenue'}, 'longitude': '-1.064738'}   \n",
       "\n",
       "  outcome_status         id    month  \n",
       "0           None  115403022  2023-12  \n",
       "1           None  115402750  2023-12  \n",
       "2           None  115403050  2023-12  \n",
       "3           None  115403843  2023-12  \n",
       "4           None  115403953  2023-12  "
      ]
     },
     "execution_count": 4,
     "metadata": {},
     "output_type": "execute_result"
    }
   ],
   "source": [
    "crime_json = response.json()\n",
    "df = pd.DataFrame(crime_json)\n",
    "pd.set_option('display.max_columns', None)\n",
    "pd.set_option('display.max_colwidth', None)\n",
    "df.drop(labels=['context', 'persistent_id', 'location_subtype'], axis=1, inplace=True)\n",
    "df.head()"
   ]
  },
  {
   "cell_type": "code",
   "execution_count": 5,
   "id": "4027e4a7-3c67-4305-8b0c-b0a721bbc02a",
   "metadata": {},
   "outputs": [
    {
     "name": "stdout",
     "output_type": "stream",
     "text": [
      "category: 0\n",
      "location_type: 0\n",
      "location: 0\n",
      "outcome_status: 82\n",
      "id: 0\n",
      "month: 0\n"
     ]
    }
   ],
   "source": [
    "for row in df:\n",
    "    print(f\"{row}: \" + str(df[row].isnull().sum()))"
   ]
  },
  {
   "cell_type": "code",
   "execution_count": 8,
   "id": "5ba16f00-cac2-4896-9b76-23d3a9063ffa",
   "metadata": {
    "scrolled": true
   },
   "outputs": [
    {
     "data": {
      "text/plain": [
       "0"
      ]
     },
     "execution_count": 8,
     "metadata": {},
     "output_type": "execute_result"
    }
   ],
   "source": [
    "df['id'].duplicated().sum()"
   ]
  },
  {
   "cell_type": "code",
   "execution_count": 7,
   "id": "610fac52-8780-4d2c-8dcc-7a83ed0fd49b",
   "metadata": {},
   "outputs": [
    {
     "data": {
      "text/plain": [
       "2023-12    916\n",
       "Name: month, dtype: int64"
      ]
     },
     "execution_count": 7,
     "metadata": {},
     "output_type": "execute_result"
    }
   ],
   "source": [
    "df['month'].value_counts()"
   ]
  },
  {
   "cell_type": "code",
   "execution_count": 9,
   "id": "cb47acde-ce1d-4617-84fa-a65284f857b5",
   "metadata": {
    "scrolled": true
   },
   "outputs": [
    {
     "data": {
      "text/plain": [
       "category                  object\n",
       "location_type             object\n",
       "location                  object\n",
       "outcome_status            object\n",
       "id                         int64\n",
       "month             datetime64[ns]\n",
       "dtype: object"
      ]
     },
     "execution_count": 9,
     "metadata": {},
     "output_type": "execute_result"
    }
   ],
   "source": [
    "df.dtypes\n",
    "df['month'] = pd.to_datetime(df['month'])\n",
    "df.dtypes"
   ]
  },
  {
   "cell_type": "code",
   "execution_count": 10,
   "id": "5d971914-7252-43ce-8ac4-c868690b1583",
   "metadata": {},
   "outputs": [
    {
     "data": {
      "text/html": [
       "<div>\n",
       "<style scoped>\n",
       "    .dataframe tbody tr th:only-of-type {\n",
       "        vertical-align: middle;\n",
       "    }\n",
       "\n",
       "    .dataframe tbody tr th {\n",
       "        vertical-align: top;\n",
       "    }\n",
       "\n",
       "    .dataframe thead th {\n",
       "        text-align: right;\n",
       "    }\n",
       "</style>\n",
       "<table border=\"1\" class=\"dataframe\">\n",
       "  <thead>\n",
       "    <tr style=\"text-align: right;\">\n",
       "      <th></th>\n",
       "      <th>category</th>\n",
       "      <th>location_type</th>\n",
       "      <th>location</th>\n",
       "      <th>outcome_status</th>\n",
       "      <th>id</th>\n",
       "      <th>month</th>\n",
       "    </tr>\n",
       "  </thead>\n",
       "  <tbody>\n",
       "    <tr>\n",
       "      <th>62</th>\n",
       "      <td>anti-social-behaviour</td>\n",
       "      <td>Force</td>\n",
       "      <td>{'latitude': '50.804537', 'street': {'id': 1555775, 'name': 'On or near Bowler Avenue'}, 'longitude': '-1.064738'}</td>\n",
       "      <td>None</td>\n",
       "      <td>115403951</td>\n",
       "      <td>2023-12-01</td>\n",
       "    </tr>\n",
       "    <tr>\n",
       "      <th>271</th>\n",
       "      <td>other-theft</td>\n",
       "      <td>Force</td>\n",
       "      <td>{'latitude': '50.792795', 'street': {'id': 1554333, 'name': 'On or near Eldon Street'}, 'longitude': '-1.091291'}</td>\n",
       "      <td>Unable to prosecute suspect</td>\n",
       "      <td>115401056</td>\n",
       "      <td>2023-12-01</td>\n",
       "    </tr>\n",
       "    <tr>\n",
       "      <th>891</th>\n",
       "      <td>violent-crime</td>\n",
       "      <td>Force</td>\n",
       "      <td>{'latitude': '50.805608', 'street': {'id': 1554607, 'name': 'On or near Parking Area'}, 'longitude': '-1.086487'}</td>\n",
       "      <td>Unable to prosecute suspect</td>\n",
       "      <td>115404027</td>\n",
       "      <td>2023-12-01</td>\n",
       "    </tr>\n",
       "    <tr>\n",
       "      <th>349</th>\n",
       "      <td>public-order</td>\n",
       "      <td>Force</td>\n",
       "      <td>{'latitude': '50.800552', 'street': {'id': 1555143, 'name': 'On or near Clifton Street'}, 'longitude': '-1.078227'}</td>\n",
       "      <td>Unable to prosecute suspect</td>\n",
       "      <td>115403211</td>\n",
       "      <td>2023-12-01</td>\n",
       "    </tr>\n",
       "    <tr>\n",
       "      <th>606</th>\n",
       "      <td>violent-crime</td>\n",
       "      <td>Force</td>\n",
       "      <td>{'latitude': '50.798881', 'street': {'id': 1554162, 'name': 'On or near Parking Area'}, 'longitude': '-1.092181'}</td>\n",
       "      <td>Investigation complete; no suspect identified</td>\n",
       "      <td>115402555</td>\n",
       "      <td>2023-12-01</td>\n",
       "    </tr>\n",
       "    <tr>\n",
       "      <th>171</th>\n",
       "      <td>criminal-damage-arson</td>\n",
       "      <td>Force</td>\n",
       "      <td>{'latitude': '50.798330', 'street': {'id': 1554460, 'name': 'On or near Durham Street'}, 'longitude': '-1.087182'}</td>\n",
       "      <td>Investigation complete; no suspect identified</td>\n",
       "      <td>115402593</td>\n",
       "      <td>2023-12-01</td>\n",
       "    </tr>\n",
       "    <tr>\n",
       "      <th>676</th>\n",
       "      <td>violent-crime</td>\n",
       "      <td>Force</td>\n",
       "      <td>{'latitude': '50.813957', 'street': {'id': 1554739, 'name': 'On or near Mills Road'}, 'longitude': '-1.084663'}</td>\n",
       "      <td>Unable to prosecute suspect</td>\n",
       "      <td>115404729</td>\n",
       "      <td>2023-12-01</td>\n",
       "    </tr>\n",
       "    <tr>\n",
       "      <th>681</th>\n",
       "      <td>violent-crime</td>\n",
       "      <td>Force</td>\n",
       "      <td>{'latitude': '50.811373', 'street': {'id': 1555517, 'name': 'On or near Queen's Road'}, 'longitude': '-1.071698'}</td>\n",
       "      <td>Under investigation</td>\n",
       "      <td>115404575</td>\n",
       "      <td>2023-12-01</td>\n",
       "    </tr>\n",
       "    <tr>\n",
       "      <th>735</th>\n",
       "      <td>violent-crime</td>\n",
       "      <td>Force</td>\n",
       "      <td>{'latitude': '50.799193', 'street': {'id': 1554345, 'name': 'On or near Surrey Street'}, 'longitude': '-1.090585'}</td>\n",
       "      <td>Unable to prosecute suspect</td>\n",
       "      <td>115402795</td>\n",
       "      <td>2023-12-01</td>\n",
       "    </tr>\n",
       "    <tr>\n",
       "      <th>845</th>\n",
       "      <td>violent-crime</td>\n",
       "      <td>Force</td>\n",
       "      <td>{'latitude': '50.816934', 'street': {'id': 1555407, 'name': 'On or near Wykeham Avenue'}, 'longitude': '-1.073277'}</td>\n",
       "      <td>Unable to prosecute suspect</td>\n",
       "      <td>115404877</td>\n",
       "      <td>2023-12-01</td>\n",
       "    </tr>\n",
       "  </tbody>\n",
       "</table>\n",
       "</div>"
      ],
      "text/plain": [
       "                  category location_type  \\\n",
       "62   anti-social-behaviour         Force   \n",
       "271            other-theft         Force   \n",
       "891          violent-crime         Force   \n",
       "349           public-order         Force   \n",
       "606          violent-crime         Force   \n",
       "171  criminal-damage-arson         Force   \n",
       "676          violent-crime         Force   \n",
       "681          violent-crime         Force   \n",
       "735          violent-crime         Force   \n",
       "845          violent-crime         Force   \n",
       "\n",
       "                                                                                                                location  \\\n",
       "62    {'latitude': '50.804537', 'street': {'id': 1555775, 'name': 'On or near Bowler Avenue'}, 'longitude': '-1.064738'}   \n",
       "271    {'latitude': '50.792795', 'street': {'id': 1554333, 'name': 'On or near Eldon Street'}, 'longitude': '-1.091291'}   \n",
       "891    {'latitude': '50.805608', 'street': {'id': 1554607, 'name': 'On or near Parking Area'}, 'longitude': '-1.086487'}   \n",
       "349  {'latitude': '50.800552', 'street': {'id': 1555143, 'name': 'On or near Clifton Street'}, 'longitude': '-1.078227'}   \n",
       "606    {'latitude': '50.798881', 'street': {'id': 1554162, 'name': 'On or near Parking Area'}, 'longitude': '-1.092181'}   \n",
       "171   {'latitude': '50.798330', 'street': {'id': 1554460, 'name': 'On or near Durham Street'}, 'longitude': '-1.087182'}   \n",
       "676      {'latitude': '50.813957', 'street': {'id': 1554739, 'name': 'On or near Mills Road'}, 'longitude': '-1.084663'}   \n",
       "681    {'latitude': '50.811373', 'street': {'id': 1555517, 'name': 'On or near Queen's Road'}, 'longitude': '-1.071698'}   \n",
       "735   {'latitude': '50.799193', 'street': {'id': 1554345, 'name': 'On or near Surrey Street'}, 'longitude': '-1.090585'}   \n",
       "845  {'latitude': '50.816934', 'street': {'id': 1555407, 'name': 'On or near Wykeham Avenue'}, 'longitude': '-1.073277'}   \n",
       "\n",
       "                                    outcome_status         id      month  \n",
       "62                                            None  115403951 2023-12-01  \n",
       "271                    Unable to prosecute suspect  115401056 2023-12-01  \n",
       "891                    Unable to prosecute suspect  115404027 2023-12-01  \n",
       "349                    Unable to prosecute suspect  115403211 2023-12-01  \n",
       "606  Investigation complete; no suspect identified  115402555 2023-12-01  \n",
       "171  Investigation complete; no suspect identified  115402593 2023-12-01  \n",
       "676                    Unable to prosecute suspect  115404729 2023-12-01  \n",
       "681                            Under investigation  115404575 2023-12-01  \n",
       "735                    Unable to prosecute suspect  115402795 2023-12-01  \n",
       "845                    Unable to prosecute suspect  115404877 2023-12-01  "
      ]
     },
     "execution_count": 10,
     "metadata": {},
     "output_type": "execute_result"
    }
   ],
   "source": [
    "outcome_status = []\n",
    "for row in df['outcome_status']:\n",
    "    if row is not None:\n",
    "        outcome_status.append(row['category'])\n",
    "    else:\n",
    "        outcome_status.append('None')\n",
    "\n",
    "df['outcome_status'] = outcome_status\n",
    "df.sample(10)"
   ]
  },
  {
   "cell_type": "code",
   "execution_count": 11,
   "id": "b00bc9e2-8136-4a45-9980-0e6ec6afc179",
   "metadata": {},
   "outputs": [
    {
     "data": {
      "text/html": [
       "<div>\n",
       "<style scoped>\n",
       "    .dataframe tbody tr th:only-of-type {\n",
       "        vertical-align: middle;\n",
       "    }\n",
       "\n",
       "    .dataframe tbody tr th {\n",
       "        vertical-align: top;\n",
       "    }\n",
       "\n",
       "    .dataframe thead th {\n",
       "        text-align: right;\n",
       "    }\n",
       "</style>\n",
       "<table border=\"1\" class=\"dataframe\">\n",
       "  <thead>\n",
       "    <tr style=\"text-align: right;\">\n",
       "      <th></th>\n",
       "      <th>category</th>\n",
       "      <th>location_type</th>\n",
       "      <th>location</th>\n",
       "      <th>outcome_status</th>\n",
       "      <th>id</th>\n",
       "      <th>month</th>\n",
       "    </tr>\n",
       "  </thead>\n",
       "  <tbody>\n",
       "    <tr>\n",
       "      <th>821</th>\n",
       "      <td>violent-crime</td>\n",
       "      <td>Force</td>\n",
       "      <td>Parking Area</td>\n",
       "      <td>Awaiting court outcome</td>\n",
       "      <td>115404050</td>\n",
       "      <td>2023-12-01</td>\n",
       "    </tr>\n",
       "    <tr>\n",
       "      <th>609</th>\n",
       "      <td>violent-crime</td>\n",
       "      <td>Force</td>\n",
       "      <td>Nightclub</td>\n",
       "      <td>Investigation complete; no suspect identified</td>\n",
       "      <td>115402836</td>\n",
       "      <td>2023-12-01</td>\n",
       "    </tr>\n",
       "    <tr>\n",
       "      <th>725</th>\n",
       "      <td>violent-crime</td>\n",
       "      <td>Force</td>\n",
       "      <td>Upper Arundel Street</td>\n",
       "      <td>Investigation complete; no suspect identified</td>\n",
       "      <td>115402723</td>\n",
       "      <td>2023-12-01</td>\n",
       "    </tr>\n",
       "    <tr>\n",
       "      <th>412</th>\n",
       "      <td>shoplifting</td>\n",
       "      <td>Force</td>\n",
       "      <td>Buckingham Street</td>\n",
       "      <td>Under investigation</td>\n",
       "      <td>115403379</td>\n",
       "      <td>2023-12-01</td>\n",
       "    </tr>\n",
       "    <tr>\n",
       "      <th>241</th>\n",
       "      <td>other-theft</td>\n",
       "      <td>Force</td>\n",
       "      <td>Supermarket</td>\n",
       "      <td>Investigation complete; no suspect identified</td>\n",
       "      <td>115404782</td>\n",
       "      <td>2023-12-01</td>\n",
       "    </tr>\n",
       "    <tr>\n",
       "      <th>874</th>\n",
       "      <td>violent-crime</td>\n",
       "      <td>Force</td>\n",
       "      <td>Liverpool Road</td>\n",
       "      <td>Unable to prosecute suspect</td>\n",
       "      <td>115403181</td>\n",
       "      <td>2023-12-01</td>\n",
       "    </tr>\n",
       "    <tr>\n",
       "      <th>888</th>\n",
       "      <td>violent-crime</td>\n",
       "      <td>Force</td>\n",
       "      <td>Cornwallis Crescent</td>\n",
       "      <td>Unable to prosecute suspect</td>\n",
       "      <td>115403783</td>\n",
       "      <td>2023-12-01</td>\n",
       "    </tr>\n",
       "    <tr>\n",
       "      <th>517</th>\n",
       "      <td>violent-crime</td>\n",
       "      <td>Force</td>\n",
       "      <td>All Saints' Street</td>\n",
       "      <td>Unable to prosecute suspect</td>\n",
       "      <td>115403939</td>\n",
       "      <td>2023-12-01</td>\n",
       "    </tr>\n",
       "    <tr>\n",
       "      <th>695</th>\n",
       "      <td>violent-crime</td>\n",
       "      <td>Force</td>\n",
       "      <td>All Saints' Street</td>\n",
       "      <td>Unable to prosecute suspect</td>\n",
       "      <td>115403943</td>\n",
       "      <td>2023-12-01</td>\n",
       "    </tr>\n",
       "    <tr>\n",
       "      <th>156</th>\n",
       "      <td>criminal-damage-arson</td>\n",
       "      <td>Force</td>\n",
       "      <td>Parking Area</td>\n",
       "      <td>Under investigation</td>\n",
       "      <td>115403511</td>\n",
       "      <td>2023-12-01</td>\n",
       "    </tr>\n",
       "  </tbody>\n",
       "</table>\n",
       "</div>"
      ],
      "text/plain": [
       "                  category location_type               location  \\\n",
       "821          violent-crime         Force           Parking Area   \n",
       "609          violent-crime         Force              Nightclub   \n",
       "725          violent-crime         Force   Upper Arundel Street   \n",
       "412            shoplifting         Force      Buckingham Street   \n",
       "241            other-theft         Force            Supermarket   \n",
       "874          violent-crime         Force         Liverpool Road   \n",
       "888          violent-crime         Force    Cornwallis Crescent   \n",
       "517          violent-crime         Force     All Saints' Street   \n",
       "695          violent-crime         Force     All Saints' Street   \n",
       "156  criminal-damage-arson         Force           Parking Area   \n",
       "\n",
       "                                    outcome_status         id      month  \n",
       "821                         Awaiting court outcome  115404050 2023-12-01  \n",
       "609  Investigation complete; no suspect identified  115402836 2023-12-01  \n",
       "725  Investigation complete; no suspect identified  115402723 2023-12-01  \n",
       "412                            Under investigation  115403379 2023-12-01  \n",
       "241  Investigation complete; no suspect identified  115404782 2023-12-01  \n",
       "874                    Unable to prosecute suspect  115403181 2023-12-01  \n",
       "888                    Unable to prosecute suspect  115403783 2023-12-01  \n",
       "517                    Unable to prosecute suspect  115403939 2023-12-01  \n",
       "695                    Unable to prosecute suspect  115403943 2023-12-01  \n",
       "156                            Under investigation  115403511 2023-12-01  "
      ]
     },
     "execution_count": 11,
     "metadata": {},
     "output_type": "execute_result"
    }
   ],
   "source": [
    "location = []\n",
    "for row in df['location']:\n",
    "    crime_loc = row['street']['name']\n",
    "    crime_loc = crime_loc.replace('On or near', '')\n",
    "    location.append(crime_loc)\n",
    "\n",
    "df['location'] = location\n",
    "df.sample(10)"
   ]
  },
  {
   "cell_type": "code",
   "execution_count": 13,
   "id": "f5fc0b89-8b07-4c41-9651-8105163f2efa",
   "metadata": {},
   "outputs": [
    {
     "data": {
      "text/plain": [
       "([0, 1, 2, 3, 4],\n",
       " [Text(0, 0, 'violent-crime'),\n",
       "  Text(1, 0, 'public-order'),\n",
       "  Text(2, 0, 'anti-social-behaviour'),\n",
       "  Text(3, 0, 'criminal-damage-arson'),\n",
       "  Text(4, 0, 'shoplifting')])"
      ]
     },
     "execution_count": 13,
     "metadata": {},
     "output_type": "execute_result"
    },
    {
     "data": {
      "image/png": "[encoded data removed]",
      "text/plain": [
       "<Figure size 640x480 with 1 Axes>"
      ]
     },
     "metadata": {},
     "output_type": "display_data"
    }
   ],
   "source": [
    "top_5_crime = df['category'].value_counts()[:5]\n",
    "sns.barplot(top_5_crime)\n",
    "plt.xticks(rotation=45)"
   ]
  },
  {
   "cell_type": "code",
   "execution_count": 16,
   "id": "c9a5ba70-dba9-42d2-9b9c-04a1c731c42b",
   "metadata": {},
   "outputs": [
    {
     "data": {
      "text/plain": [
       "([0, 1, 2, 3, 4],\n",
       " [Text(0, 0, ' Parking Area'),\n",
       "  Text(1, 0, ' Supermarket'),\n",
       "  Text(2, 0, ' Further/higher Educational Building'),\n",
       "  Text(3, 0, ' Guildhall Walk'),\n",
       "  Text(4, 0, ' Victory Road')])"
      ]
     },
     "execution_count": 16,
     "metadata": {},
     "output_type": "execute_result"
    },
    {
     "data": {
      "image/png": "[encoded data removed]",
      "text/plain": [
       "<Figure size 640x480 with 1 Axes>"
      ]
     },
     "metadata": {},
     "output_type": "display_data"
    }
   ],
   "source": [
    "top_5_loc = df['location'].value_counts()[:5]\n",
    "sns.barplot(top_5_loc)\n",
    "plt.xticks(rotation=45)"
   ]
  },
  {
   "cell_type": "code",
   "execution_count": 15,
   "id": "d907bec0-520e-44e0-8753-2d386ec42078",
   "metadata": {},
   "outputs": [
    {
     "data": {
      "text/plain": [
       "([0, 1], [Text(0, 0, 'Force'), Text(1, 0, 'BTP')])"
      ]
     },
     "execution_count": 15,
     "metadata": {},
     "output_type": "execute_result"
    },
    {
     "data": {
      "image/png": "[encoded data removed]",
      "text/plain": [
       "<Figure size 640x480 with 1 Axes>"
      ]
     },
     "metadata": {},
     "output_type": "display_data"
    }
   ],
   "source": [
    "loc_type = df['location_type'].value_counts()\n",
    "sns.barplot(loc_type)\n",
    "plt.xticks(rotation=45)"
   ]
  },
  {
   "cell_type": "code",
   "execution_count": 17,
   "id": "0cd5d746-4c2e-4a13-9e81-0a77784eb36f",
   "metadata": {},
   "outputs": [
    {
     "data": {
      "text/plain": [
       "([0, 1, 2, 3, 4],\n",
       " [Text(0, 0, 'Investigation complete; no suspect identified'),\n",
       "  Text(1, 0, 'Unable to prosecute suspect'),\n",
       "  Text(2, 0, 'Under investigation'),\n",
       "  Text(3, 0, 'None'),\n",
       "  Text(4, 0, 'Local resolution')])"
      ]
     },
     "execution_count": 17,
     "metadata": {},
     "output_type": "execute_result"
    },
    {
     "data": {
      "image/png": "[encoded data removed]",
      "text/plain": [
       "<Figure size 640x480 with 1 Axes>"
      ]
     },
     "metadata": {},
     "output_type": "display_data"
    }
   ],
   "source": [
    "status = df['outcome_status'].value_counts()[:5]\n",
    "sns.barplot(status)\n",
    "plt.xticks(rotation=90)"
   ]
  },
  {
   "cell_type": "code",
   "execution_count": 18,
   "id": "aa6f0141-8d09-4374-bf08-be33da18c223",
   "metadata": {},
   "outputs": [
    {
     "data": {
      "text/plain": [
       "(916, 6)"
      ]
     },
     "execution_count": 18,
     "metadata": {},
     "output_type": "execute_result"
    }
   ],
   "source": [
    "df.shape"
   ]
  },
  {
   "cell_type": "code",
   "execution_count": 19,
   "id": "5d266b8d-ea0f-4383-9722-b58eb7174375",
   "metadata": {},
   "outputs": [],
   "source": [
    "df.to_csv(\"Crimes_Port_2023_12\", index=False)"
   ]
  },
  {
   "cell_type": "code",
   "execution_count": null,
   "id": "e9d34ff4-1411-4366-863b-1f775d4eac19",
   "metadata": {},
   "outputs": [],
   "source": []
  }
 ],
 "metadata": {
  "kernelspec": {
   "display_name": "Python 3 (ipykernel)",
   "language": "python",
   "name": "python3"
  },
  "language_info": {
   "codemirror_mode": {
    "name": "ipython",
    "version": 3
   },
   "file_extension": ".py",
   "mimetype": "text/x-python",
   "name": "python",
   "nbconvert_exporter": "python",
   "pygments_lexer": "ipython3",
   "version": "3.9.7"
  }
 },
 "nbformat": 4,
 "nbformat_minor": 5
}
