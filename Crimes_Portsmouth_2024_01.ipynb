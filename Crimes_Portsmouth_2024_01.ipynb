{
 "cells": [
  {
   "cell_type": "code",
   "execution_count": 1,
   "id": "16c37a17-60cd-490c-b4c5-5aefde48d4d8",
   "metadata": {},
   "outputs": [
    {
     "name": "stdout",
     "output_type": "stream",
     "text": [
      "done\n"
     ]
    }
   ],
   "source": [
    "import requests \n",
    "import pandas as pd\n",
    "import numpy \n",
    "import seaborn as sns\n",
    "import matplotlib.pyplot as plt\n",
    "print(\"done\")"
   ]
  },
  {
   "cell_type": "code",
   "execution_count": 2,
   "id": "9f4cb998-1ee5-4403-b3f8-2ead2ab5bdf2",
   "metadata": {},
   "outputs": [
    {
     "name": "stdout",
     "output_type": "stream",
     "text": [
      "<Response [200]>\n"
     ]
    }
   ],
   "source": [
    "# Where is the majoirty of crime occuring?\n",
    "# What is the most frequent category of offence? \n",
    "# Is there a trend in category of offence over time? (time series analysis)\n",
    "\n",
    "params = {\n",
    "    'lat': 50.805832,  # Latitude of Portsmouth\n",
    "    'lng': -1.087222,   # Longitude of Portsmouth  \n",
    "    'date': '2024-01'\n",
    "}\n",
    "\n",
    "response = requests.get(\"https://data.police.uk/api/crimes-street/all-crime\", params=params)\n",
    "print(response)"
   ]
  },
  {
   "cell_type": "code",
   "execution_count": 3,
   "id": "6499bc4e-fc55-4082-bfdb-cffe83b9fef7",
   "metadata": {
    "scrolled": true
   },
   "outputs": [
    {
     "data": {
      "text/html": [
       "<div>\n",
       "<style scoped>\n",
       "    .dataframe tbody tr th:only-of-type {\n",
       "        vertical-align: middle;\n",
       "    }\n",
       "\n",
       "    .dataframe tbody tr th {\n",
       "        vertical-align: top;\n",
       "    }\n",
       "\n",
       "    .dataframe thead th {\n",
       "        text-align: right;\n",
       "    }\n",
       "</style>\n",
       "<table border=\"1\" class=\"dataframe\">\n",
       "  <thead>\n",
       "    <tr style=\"text-align: right;\">\n",
       "      <th></th>\n",
       "      <th>category</th>\n",
       "      <th>location_type</th>\n",
       "      <th>location</th>\n",
       "      <th>outcome_status</th>\n",
       "      <th>id</th>\n",
       "      <th>month</th>\n",
       "    </tr>\n",
       "  </thead>\n",
       "  <tbody>\n",
       "    <tr>\n",
       "      <th>0</th>\n",
       "      <td>anti-social-behaviour</td>\n",
       "      <td>Force</td>\n",
       "      <td>{'latitude': '50.800578', 'street': {'id': 1554507, 'name': 'On or near Parking Area'}, 'longitude': '-1.087209'}</td>\n",
       "      <td>None</td>\n",
       "      <td>116212600</td>\n",
       "      <td>2024-01</td>\n",
       "    </tr>\n",
       "    <tr>\n",
       "      <th>1</th>\n",
       "      <td>anti-social-behaviour</td>\n",
       "      <td>Force</td>\n",
       "      <td>{'latitude': '50.813457', 'street': {'id': 1554834, 'name': 'On or near Kingston Crescent'}, 'longitude': '-1.082842'}</td>\n",
       "      <td>None</td>\n",
       "      <td>116222233</td>\n",
       "      <td>2024-01</td>\n",
       "    </tr>\n",
       "    <tr>\n",
       "      <th>2</th>\n",
       "      <td>anti-social-behaviour</td>\n",
       "      <td>Force</td>\n",
       "      <td>{'latitude': '50.798966', 'street': {'id': 1553938, 'name': 'On or near Aylward Street'}, 'longitude': '-1.100750'}</td>\n",
       "      <td>None</td>\n",
       "      <td>116211345</td>\n",
       "      <td>2024-01</td>\n",
       "    </tr>\n",
       "    <tr>\n",
       "      <th>3</th>\n",
       "      <td>anti-social-behaviour</td>\n",
       "      <td>Force</td>\n",
       "      <td>{'latitude': '50.800709', 'street': {'id': 1554512, 'name': 'On or near Buckingham Street'}, 'longitude': '-1.087874'}</td>\n",
       "      <td>None</td>\n",
       "      <td>116211353</td>\n",
       "      <td>2024-01</td>\n",
       "    </tr>\n",
       "    <tr>\n",
       "      <th>4</th>\n",
       "      <td>anti-social-behaviour</td>\n",
       "      <td>Force</td>\n",
       "      <td>{'latitude': '50.802111', 'street': {'id': 1555602, 'name': 'On or near Andrew Close'}, 'longitude': '-1.067241'}</td>\n",
       "      <td>None</td>\n",
       "      <td>116211356</td>\n",
       "      <td>2024-01</td>\n",
       "    </tr>\n",
       "  </tbody>\n",
       "</table>\n",
       "</div>"
      ],
      "text/plain": [
       "                category location_type  \\\n",
       "0  anti-social-behaviour         Force   \n",
       "1  anti-social-behaviour         Force   \n",
       "2  anti-social-behaviour         Force   \n",
       "3  anti-social-behaviour         Force   \n",
       "4  anti-social-behaviour         Force   \n",
       "\n",
       "                                                                                                                 location  \\\n",
       "0       {'latitude': '50.800578', 'street': {'id': 1554507, 'name': 'On or near Parking Area'}, 'longitude': '-1.087209'}   \n",
       "1  {'latitude': '50.813457', 'street': {'id': 1554834, 'name': 'On or near Kingston Crescent'}, 'longitude': '-1.082842'}   \n",
       "2     {'latitude': '50.798966', 'street': {'id': 1553938, 'name': 'On or near Aylward Street'}, 'longitude': '-1.100750'}   \n",
       "3  {'latitude': '50.800709', 'street': {'id': 1554512, 'name': 'On or near Buckingham Street'}, 'longitude': '-1.087874'}   \n",
       "4       {'latitude': '50.802111', 'street': {'id': 1555602, 'name': 'On or near Andrew Close'}, 'longitude': '-1.067241'}   \n",
       "\n",
       "  outcome_status         id    month  \n",
       "0           None  116212600  2024-01  \n",
       "1           None  116222233  2024-01  \n",
       "2           None  116211345  2024-01  \n",
       "3           None  116211353  2024-01  \n",
       "4           None  116211356  2024-01  "
      ]
     },
     "execution_count": 3,
     "metadata": {},
     "output_type": "execute_result"
    }
   ],
   "source": [
    "crime_json = response.json()\n",
    "df = pd.DataFrame(crime_json)\n",
    "pd.set_option('display.max_columns', None)\n",
    "pd.set_option('display.max_colwidth', None)\n",
    "df.drop(labels=['context', 'persistent_id', 'location_subtype'], axis=1, inplace=True)\n",
    "df.head()"
   ]
  },
  {
   "cell_type": "code",
   "execution_count": 4,
   "id": "4027e4a7-3c67-4305-8b0c-b0a721bbc02a",
   "metadata": {},
   "outputs": [
    {
     "name": "stdout",
     "output_type": "stream",
     "text": [
      "category: 0\n",
      "location_type: 0\n",
      "location: 0\n",
      "outcome_status: 68\n",
      "id: 0\n",
      "month: 0\n"
     ]
    }
   ],
   "source": [
    "for row in df:\n",
    "    print(f\"{row}: \" + str(df[row].isnull().sum()))"
   ]
  },
  {
   "cell_type": "code",
   "execution_count": 5,
   "id": "5ba16f00-cac2-4896-9b76-23d3a9063ffa",
   "metadata": {
    "scrolled": true
   },
   "outputs": [
    {
     "data": {
      "text/plain": [
       "0"
      ]
     },
     "execution_count": 5,
     "metadata": {},
     "output_type": "execute_result"
    }
   ],
   "source": [
    "df['id'].duplicated().sum()"
   ]
  },
  {
   "cell_type": "code",
   "execution_count": 6,
   "id": "610fac52-8780-4d2c-8dcc-7a83ed0fd49b",
   "metadata": {},
   "outputs": [
    {
     "data": {
      "text/plain": [
       "2024-01    966\n",
       "Name: month, dtype: int64"
      ]
     },
     "execution_count": 6,
     "metadata": {},
     "output_type": "execute_result"
    }
   ],
   "source": [
    "df['month'].value_counts()"
   ]
  },
  {
   "cell_type": "code",
   "execution_count": 7,
   "id": "cb47acde-ce1d-4617-84fa-a65284f857b5",
   "metadata": {
    "scrolled": true
   },
   "outputs": [
    {
     "data": {
      "text/plain": [
       "category                  object\n",
       "location_type             object\n",
       "location                  object\n",
       "outcome_status            object\n",
       "id                         int64\n",
       "month             datetime64[ns]\n",
       "dtype: object"
      ]
     },
     "execution_count": 7,
     "metadata": {},
     "output_type": "execute_result"
    }
   ],
   "source": [
    "df.dtypes\n",
    "df['month'] = pd.to_datetime(df['month'])\n",
    "df.dtypes"
   ]
  },
  {
   "cell_type": "code",
   "execution_count": 8,
   "id": "5d971914-7252-43ce-8ac4-c868690b1583",
   "metadata": {},
   "outputs": [
    {
     "data": {
      "text/html": [
       "<div>\n",
       "<style scoped>\n",
       "    .dataframe tbody tr th:only-of-type {\n",
       "        vertical-align: middle;\n",
       "    }\n",
       "\n",
       "    .dataframe tbody tr th {\n",
       "        vertical-align: top;\n",
       "    }\n",
       "\n",
       "    .dataframe thead th {\n",
       "        text-align: right;\n",
       "    }\n",
       "</style>\n",
       "<table border=\"1\" class=\"dataframe\">\n",
       "  <thead>\n",
       "    <tr style=\"text-align: right;\">\n",
       "      <th></th>\n",
       "      <th>category</th>\n",
       "      <th>location_type</th>\n",
       "      <th>location</th>\n",
       "      <th>outcome_status</th>\n",
       "      <th>id</th>\n",
       "      <th>month</th>\n",
       "    </tr>\n",
       "  </thead>\n",
       "  <tbody>\n",
       "    <tr>\n",
       "      <th>354</th>\n",
       "      <td>public-order</td>\n",
       "      <td>Force</td>\n",
       "      <td>{'latitude': '50.793843', 'street': {'id': 1554548, 'name': 'On or near Henrietta Place'}, 'longitude': '-1.087255'}</td>\n",
       "      <td>Unable to prosecute suspect</td>\n",
       "      <td>116210882</td>\n",
       "      <td>2024-01-01</td>\n",
       "    </tr>\n",
       "    <tr>\n",
       "      <th>25</th>\n",
       "      <td>anti-social-behaviour</td>\n",
       "      <td>Force</td>\n",
       "      <td>{'latitude': '50.818547', 'street': {'id': 1555012, 'name': 'On or near Connaught Road'}, 'longitude': '-1.079406'}</td>\n",
       "      <td>None</td>\n",
       "      <td>116219396</td>\n",
       "      <td>2024-01-01</td>\n",
       "    </tr>\n",
       "    <tr>\n",
       "      <th>916</th>\n",
       "      <td>violent-crime</td>\n",
       "      <td>Force</td>\n",
       "      <td>{'latitude': '50.801747', 'street': {'id': 1554542, 'name': 'On or near Jacob's Street'}, 'longitude': '-1.087243'}</td>\n",
       "      <td>Unable to prosecute suspect</td>\n",
       "      <td>116210022</td>\n",
       "      <td>2024-01-01</td>\n",
       "    </tr>\n",
       "    <tr>\n",
       "      <th>52</th>\n",
       "      <td>anti-social-behaviour</td>\n",
       "      <td>Force</td>\n",
       "      <td>{'latitude': '50.802111', 'street': {'id': 1555602, 'name': 'On or near Andrew Close'}, 'longitude': '-1.067241'}</td>\n",
       "      <td>None</td>\n",
       "      <td>116221209</td>\n",
       "      <td>2024-01-01</td>\n",
       "    </tr>\n",
       "    <tr>\n",
       "      <th>91</th>\n",
       "      <td>burglary</td>\n",
       "      <td>Force</td>\n",
       "      <td>{'latitude': '50.810153', 'street': {'id': 1555374, 'name': 'On or near Langley Road'}, 'longitude': '-1.073184'}</td>\n",
       "      <td>Under investigation</td>\n",
       "      <td>116221222</td>\n",
       "      <td>2024-01-01</td>\n",
       "    </tr>\n",
       "    <tr>\n",
       "      <th>740</th>\n",
       "      <td>violent-crime</td>\n",
       "      <td>Force</td>\n",
       "      <td>{'latitude': '50.795567', 'street': {'id': 1555416, 'name': 'On or near Petrol Station'}, 'longitude': '-1.073032'}</td>\n",
       "      <td>Unable to prosecute suspect</td>\n",
       "      <td>116218036</td>\n",
       "      <td>2024-01-01</td>\n",
       "    </tr>\n",
       "    <tr>\n",
       "      <th>922</th>\n",
       "      <td>violent-crime</td>\n",
       "      <td>Force</td>\n",
       "      <td>{'latitude': '50.803650', 'street': {'id': 1555186, 'name': 'On or near Woodland Street'}, 'longitude': '-1.075371'}</td>\n",
       "      <td>Action to be taken by another organisation</td>\n",
       "      <td>116221706</td>\n",
       "      <td>2024-01-01</td>\n",
       "    </tr>\n",
       "    <tr>\n",
       "      <th>900</th>\n",
       "      <td>violent-crime</td>\n",
       "      <td>Force</td>\n",
       "      <td>{'latitude': '50.793843', 'street': {'id': 1554548, 'name': 'On or near Henrietta Place'}, 'longitude': '-1.087255'}</td>\n",
       "      <td>Under investigation</td>\n",
       "      <td>116210881</td>\n",
       "      <td>2024-01-01</td>\n",
       "    </tr>\n",
       "    <tr>\n",
       "      <th>535</th>\n",
       "      <td>vehicle-crime</td>\n",
       "      <td>Force</td>\n",
       "      <td>{'latitude': '50.798507', 'street': {'id': 1555264, 'name': 'On or near Ariel Road'}, 'longitude': '-1.075472'}</td>\n",
       "      <td>Investigation complete; no suspect identified</td>\n",
       "      <td>116213433</td>\n",
       "      <td>2024-01-01</td>\n",
       "    </tr>\n",
       "    <tr>\n",
       "      <th>587</th>\n",
       "      <td>violent-crime</td>\n",
       "      <td>Force</td>\n",
       "      <td>{'latitude': '50.817905', 'street': {'id': 1555094, 'name': 'On or near Montague Road'}, 'longitude': '-1.076665'}</td>\n",
       "      <td>Unable to prosecute suspect</td>\n",
       "      <td>116210543</td>\n",
       "      <td>2024-01-01</td>\n",
       "    </tr>\n",
       "  </tbody>\n",
       "</table>\n",
       "</div>"
      ],
      "text/plain": [
       "                  category location_type  \\\n",
       "354           public-order         Force   \n",
       "25   anti-social-behaviour         Force   \n",
       "916          violent-crime         Force   \n",
       "52   anti-social-behaviour         Force   \n",
       "91                burglary         Force   \n",
       "740          violent-crime         Force   \n",
       "922          violent-crime         Force   \n",
       "900          violent-crime         Force   \n",
       "535          vehicle-crime         Force   \n",
       "587          violent-crime         Force   \n",
       "\n",
       "                                                                                                                 location  \\\n",
       "354  {'latitude': '50.793843', 'street': {'id': 1554548, 'name': 'On or near Henrietta Place'}, 'longitude': '-1.087255'}   \n",
       "25    {'latitude': '50.818547', 'street': {'id': 1555012, 'name': 'On or near Connaught Road'}, 'longitude': '-1.079406'}   \n",
       "916   {'latitude': '50.801747', 'street': {'id': 1554542, 'name': 'On or near Jacob's Street'}, 'longitude': '-1.087243'}   \n",
       "52      {'latitude': '50.802111', 'street': {'id': 1555602, 'name': 'On or near Andrew Close'}, 'longitude': '-1.067241'}   \n",
       "91      {'latitude': '50.810153', 'street': {'id': 1555374, 'name': 'On or near Langley Road'}, 'longitude': '-1.073184'}   \n",
       "740   {'latitude': '50.795567', 'street': {'id': 1555416, 'name': 'On or near Petrol Station'}, 'longitude': '-1.073032'}   \n",
       "922  {'latitude': '50.803650', 'street': {'id': 1555186, 'name': 'On or near Woodland Street'}, 'longitude': '-1.075371'}   \n",
       "900  {'latitude': '50.793843', 'street': {'id': 1554548, 'name': 'On or near Henrietta Place'}, 'longitude': '-1.087255'}   \n",
       "535       {'latitude': '50.798507', 'street': {'id': 1555264, 'name': 'On or near Ariel Road'}, 'longitude': '-1.075472'}   \n",
       "587    {'latitude': '50.817905', 'street': {'id': 1555094, 'name': 'On or near Montague Road'}, 'longitude': '-1.076665'}   \n",
       "\n",
       "                                    outcome_status         id      month  \n",
       "354                    Unable to prosecute suspect  116210882 2024-01-01  \n",
       "25                                            None  116219396 2024-01-01  \n",
       "916                    Unable to prosecute suspect  116210022 2024-01-01  \n",
       "52                                            None  116221209 2024-01-01  \n",
       "91                             Under investigation  116221222 2024-01-01  \n",
       "740                    Unable to prosecute suspect  116218036 2024-01-01  \n",
       "922     Action to be taken by another organisation  116221706 2024-01-01  \n",
       "900                            Under investigation  116210881 2024-01-01  \n",
       "535  Investigation complete; no suspect identified  116213433 2024-01-01  \n",
       "587                    Unable to prosecute suspect  116210543 2024-01-01  "
      ]
     },
     "execution_count": 8,
     "metadata": {},
     "output_type": "execute_result"
    }
   ],
   "source": [
    "outcome_status = []\n",
    "for row in df['outcome_status']:\n",
    "    if row is not None:\n",
    "        outcome_status.append(row['category'])\n",
    "    else:\n",
    "        outcome_status.append('None')\n",
    "\n",
    "df['outcome_status'] = outcome_status\n",
    "df.sample(10)"
   ]
  },
  {
   "cell_type": "code",
   "execution_count": 9,
   "id": "b00bc9e2-8136-4a45-9980-0e6ec6afc179",
   "metadata": {},
   "outputs": [
    {
     "data": {
      "text/html": [
       "<div>\n",
       "<style scoped>\n",
       "    .dataframe tbody tr th:only-of-type {\n",
       "        vertical-align: middle;\n",
       "    }\n",
       "\n",
       "    .dataframe tbody tr th {\n",
       "        vertical-align: top;\n",
       "    }\n",
       "\n",
       "    .dataframe thead th {\n",
       "        text-align: right;\n",
       "    }\n",
       "</style>\n",
       "<table border=\"1\" class=\"dataframe\">\n",
       "  <thead>\n",
       "    <tr style=\"text-align: right;\">\n",
       "      <th></th>\n",
       "      <th>category</th>\n",
       "      <th>location_type</th>\n",
       "      <th>location</th>\n",
       "      <th>outcome_status</th>\n",
       "      <th>id</th>\n",
       "      <th>month</th>\n",
       "    </tr>\n",
       "  </thead>\n",
       "  <tbody>\n",
       "    <tr>\n",
       "      <th>756</th>\n",
       "      <td>violent-crime</td>\n",
       "      <td>Force</td>\n",
       "      <td>Charles Dickens Street</td>\n",
       "      <td>Unable to prosecute suspect</td>\n",
       "      <td>116214695</td>\n",
       "      <td>2024-01-01</td>\n",
       "    </tr>\n",
       "    <tr>\n",
       "      <th>245</th>\n",
       "      <td>other-theft</td>\n",
       "      <td>Force</td>\n",
       "      <td>Dugald Drummond Street</td>\n",
       "      <td>Investigation complete; no suspect identified</td>\n",
       "      <td>116211344</td>\n",
       "      <td>2024-01-01</td>\n",
       "    </tr>\n",
       "    <tr>\n",
       "      <th>32</th>\n",
       "      <td>anti-social-behaviour</td>\n",
       "      <td>Force</td>\n",
       "      <td>Harcourt Road</td>\n",
       "      <td>None</td>\n",
       "      <td>116216030</td>\n",
       "      <td>2024-01-01</td>\n",
       "    </tr>\n",
       "    <tr>\n",
       "      <th>499</th>\n",
       "      <td>vehicle-crime</td>\n",
       "      <td>Force</td>\n",
       "      <td>Clarendon Street</td>\n",
       "      <td>Investigation complete; no suspect identified</td>\n",
       "      <td>116217286</td>\n",
       "      <td>2024-01-01</td>\n",
       "    </tr>\n",
       "    <tr>\n",
       "      <th>45</th>\n",
       "      <td>anti-social-behaviour</td>\n",
       "      <td>Force</td>\n",
       "      <td>Basin Street</td>\n",
       "      <td>None</td>\n",
       "      <td>116214324</td>\n",
       "      <td>2024-01-01</td>\n",
       "    </tr>\n",
       "    <tr>\n",
       "      <th>473</th>\n",
       "      <td>shoplifting</td>\n",
       "      <td>Force</td>\n",
       "      <td>Petrol Station</td>\n",
       "      <td>Further investigation is not in the public interest</td>\n",
       "      <td>116212624</td>\n",
       "      <td>2024-01-01</td>\n",
       "    </tr>\n",
       "    <tr>\n",
       "      <th>23</th>\n",
       "      <td>anti-social-behaviour</td>\n",
       "      <td>Force</td>\n",
       "      <td>Mill Lane</td>\n",
       "      <td>None</td>\n",
       "      <td>116219917</td>\n",
       "      <td>2024-01-01</td>\n",
       "    </tr>\n",
       "    <tr>\n",
       "      <th>318</th>\n",
       "      <td>public-order</td>\n",
       "      <td>Force</td>\n",
       "      <td>Cornwallis Crescent</td>\n",
       "      <td>Investigation complete; no suspect identified</td>\n",
       "      <td>116212194</td>\n",
       "      <td>2024-01-01</td>\n",
       "    </tr>\n",
       "    <tr>\n",
       "      <th>327</th>\n",
       "      <td>public-order</td>\n",
       "      <td>Force</td>\n",
       "      <td>Cornwallis Crescent</td>\n",
       "      <td>Unable to prosecute suspect</td>\n",
       "      <td>116213863</td>\n",
       "      <td>2024-01-01</td>\n",
       "    </tr>\n",
       "    <tr>\n",
       "      <th>323</th>\n",
       "      <td>public-order</td>\n",
       "      <td>Force</td>\n",
       "      <td>Jacob's Street</td>\n",
       "      <td>Unable to prosecute suspect</td>\n",
       "      <td>116216841</td>\n",
       "      <td>2024-01-01</td>\n",
       "    </tr>\n",
       "  </tbody>\n",
       "</table>\n",
       "</div>"
      ],
      "text/plain": [
       "                  category location_type                 location  \\\n",
       "756          violent-crime         Force   Charles Dickens Street   \n",
       "245            other-theft         Force   Dugald Drummond Street   \n",
       "32   anti-social-behaviour         Force            Harcourt Road   \n",
       "499          vehicle-crime         Force         Clarendon Street   \n",
       "45   anti-social-behaviour         Force             Basin Street   \n",
       "473            shoplifting         Force           Petrol Station   \n",
       "23   anti-social-behaviour         Force                Mill Lane   \n",
       "318           public-order         Force      Cornwallis Crescent   \n",
       "327           public-order         Force      Cornwallis Crescent   \n",
       "323           public-order         Force           Jacob's Street   \n",
       "\n",
       "                                          outcome_status         id      month  \n",
       "756                          Unable to prosecute suspect  116214695 2024-01-01  \n",
       "245        Investigation complete; no suspect identified  116211344 2024-01-01  \n",
       "32                                                  None  116216030 2024-01-01  \n",
       "499        Investigation complete; no suspect identified  116217286 2024-01-01  \n",
       "45                                                  None  116214324 2024-01-01  \n",
       "473  Further investigation is not in the public interest  116212624 2024-01-01  \n",
       "23                                                  None  116219917 2024-01-01  \n",
       "318        Investigation complete; no suspect identified  116212194 2024-01-01  \n",
       "327                          Unable to prosecute suspect  116213863 2024-01-01  \n",
       "323                          Unable to prosecute suspect  116216841 2024-01-01  "
      ]
     },
     "execution_count": 9,
     "metadata": {},
     "output_type": "execute_result"
    }
   ],
   "source": [
    "location = []\n",
    "for row in df['location']:\n",
    "    crime_loc = row['street']['name']\n",
    "    crime_loc = crime_loc.replace('On or near', '')\n",
    "    location.append(crime_loc)\n",
    "\n",
    "df['location'] = location\n",
    "df.sample(10)"
   ]
  },
  {
   "cell_type": "code",
   "execution_count": 10,
   "id": "f5fc0b89-8b07-4c41-9651-8105163f2efa",
   "metadata": {},
   "outputs": [
    {
     "data": {
      "text/plain": [
       "([0, 1, 2, 3, 4],\n",
       " [Text(0, 0, 'violent-crime'),\n",
       "  Text(1, 0, 'criminal-damage-arson'),\n",
       "  Text(2, 0, 'public-order'),\n",
       "  Text(3, 0, 'shoplifting'),\n",
       "  Text(4, 0, 'anti-social-behaviour')])"
      ]
     },
     "execution_count": 10,
     "metadata": {},
     "output_type": "execute_result"
    },
    {
     "data": {
      "image/png": "[encoded data removed]",
      "text/plain": [
       "<Figure size 640x480 with 1 Axes>"
      ]
     },
     "metadata": {},
     "output_type": "display_data"
    }
   ],
   "source": [
    "top_5_crime = df['category'].value_counts()[:5]\n",
    "sns.barplot(top_5_crime)\n",
    "plt.xticks(rotation=45)"
   ]
  },
  {
   "cell_type": "code",
   "execution_count": 11,
   "id": "c9a5ba70-dba9-42d2-9b9c-04a1c731c42b",
   "metadata": {},
   "outputs": [
    {
     "data": {
      "text/plain": [
       "([0, 1, 2, 3, 4],\n",
       " [Text(0, 0, ' Parking Area'),\n",
       "  Text(1, 0, ' Supermarket'),\n",
       "  Text(2, 0, ' Henrietta Place'),\n",
       "  Text(3, 0, ' Guildhall Walk'),\n",
       "  Text(4, 0, ' Shopping Area')])"
      ]
     },
     "execution_count": 11,
     "metadata": {},
     "output_type": "execute_result"
    },
    {
     "data": {
      "image/png": "[encoded data removed]",
      "text/plain": [
       "<Figure size 640x480 with 1 Axes>"
      ]
     },
     "metadata": {},
     "output_type": "display_data"
    }
   ],
   "source": [
    "top_5_loc = df['location'].value_counts()[:5]\n",
    "sns.barplot(top_5_loc)\n",
    "plt.xticks(rotation=45)"
   ]
  },
  {
   "cell_type": "code",
   "execution_count": 12,
   "id": "d907bec0-520e-44e0-8753-2d386ec42078",
   "metadata": {},
   "outputs": [
    {
     "data": {
      "text/plain": [
       "([0, 1], [Text(0, 0, 'Force'), Text(1, 0, 'BTP')])"
      ]
     },
     "execution_count": 12,
     "metadata": {},
     "output_type": "execute_result"
    },
    {
     "data": {
      "image/png": "[encoded data removed]",
      "text/plain": [
       "<Figure size 640x480 with 1 Axes>"
      ]
     },
     "metadata": {},
     "output_type": "display_data"
    }
   ],
   "source": [
    "loc_type = df['location_type'].value_counts()\n",
    "sns.barplot(loc_type)\n",
    "plt.xticks(rotation=45)"
   ]
  },
  {
   "cell_type": "code",
   "execution_count": 13,
   "id": "0cd5d746-4c2e-4a13-9e81-0a77784eb36f",
   "metadata": {},
   "outputs": [
    {
     "data": {
      "text/plain": [
       "([0, 1, 2, 3, 4],\n",
       " [Text(0, 0, 'Investigation complete; no suspect identified'),\n",
       "  Text(1, 0, 'Unable to prosecute suspect'),\n",
       "  Text(2, 0, 'Under investigation'),\n",
       "  Text(3, 0, 'None'),\n",
       "  Text(4, 0, 'Awaiting court outcome')])"
      ]
     },
     "execution_count": 13,
     "metadata": {},
     "output_type": "execute_result"
    },
    {
     "data": {
      "image/png": "[encoded data removed]",
      "text/plain": [
       "<Figure size 640x480 with 1 Axes>"
      ]
     },
     "metadata": {},
     "output_type": "display_data"
    }
   ],
   "source": [
    "status = df['outcome_status'].value_counts()[:5]\n",
    "sns.barplot(status)\n",
    "plt.xticks(rotation=90)"
   ]
  },
  {
   "cell_type": "code",
   "execution_count": 15,
   "id": "aa6f0141-8d09-4374-bf08-be33da18c223",
   "metadata": {},
   "outputs": [
    {
     "data": {
      "text/plain": [
       "(966, 6)"
      ]
     },
     "execution_count": 15,
     "metadata": {},
     "output_type": "execute_result"
    }
   ],
   "source": [
    "df.shape"
   ]
  },
  {
   "cell_type": "code",
   "execution_count": 16,
   "id": "6add5c3f-423c-4a0f-8178-d2233ab49665",
   "metadata": {},
   "outputs": [],
   "source": [
    "df.to_csv(\"Crimes_Port_2024_01\", index=False)"
   ]
  },
  {
   "cell_type": "code",
   "execution_count": null,
   "id": "e2d8b1f4-00f8-47f2-ad7c-c3b115baa576",
   "metadata": {},
   "outputs": [],
   "source": []
  }
 ],
 "metadata": {
  "kernelspec": {
   "display_name": "Python 3 (ipykernel)",
   "language": "python",
   "name": "python3"
  },
  "language_info": {
   "codemirror_mode": {
    "name": "ipython",
    "version": 3
   },
   "file_extension": ".py",
   "mimetype": "text/x-python",
   "name": "python",
   "nbconvert_exporter": "python",
   "pygments_lexer": "ipython3",
   "version": "3.9.7"
  }
 },
 "nbformat": 4,
 "nbformat_minor": 5
}
