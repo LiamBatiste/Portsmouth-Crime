{
 "cells": [
  {
   "cell_type": "code",
   "execution_count": 1,
   "id": "16c37a17-60cd-490c-b4c5-5aefde48d4d8",
   "metadata": {},
   "outputs": [
    {
     "name": "stdout",
     "output_type": "stream",
     "text": [
      "done\n"
     ]
    }
   ],
   "source": [
    "import requests \n",
    "import pandas as pd\n",
    "import numpy \n",
    "import seaborn as sns\n",
    "import matplotlib.pyplot as plt\n",
    "print(\"done\")"
   ]
  },
  {
   "cell_type": "code",
   "execution_count": 2,
   "id": "9f4cb998-1ee5-4403-b3f8-2ead2ab5bdf2",
   "metadata": {},
   "outputs": [
    {
     "name": "stdout",
     "output_type": "stream",
     "text": [
      "<Response [200]>\n"
     ]
    }
   ],
   "source": [
    "# Where is the majoirty of crime occuring?\n",
    "# What is the most frequent category of offence? \n",
    "# Is there a trend in category of offence over time? (time series analysis)\n",
    "\n",
    "params = {\n",
    "    'lat': 50.805832,  # Latitude of Portsmouth\n",
    "    'lng': -1.087222,   # Longitude of Portsmouth  \n",
    "    'date': '2023-11'\n",
    "}\n",
    "\n",
    "response = requests.get(\"https://data.police.uk/api/crimes-street/all-crime\", params=params)\n",
    "print(response)"
   ]
  },
  {
   "cell_type": "code",
   "execution_count": 3,
   "id": "6499bc4e-fc55-4082-bfdb-cffe83b9fef7",
   "metadata": {
    "scrolled": true
   },
   "outputs": [
    {
     "data": {
      "text/html": [
       "<div>\n",
       "<style scoped>\n",
       "    .dataframe tbody tr th:only-of-type {\n",
       "        vertical-align: middle;\n",
       "    }\n",
       "\n",
       "    .dataframe tbody tr th {\n",
       "        vertical-align: top;\n",
       "    }\n",
       "\n",
       "    .dataframe thead th {\n",
       "        text-align: right;\n",
       "    }\n",
       "</style>\n",
       "<table border=\"1\" class=\"dataframe\">\n",
       "  <thead>\n",
       "    <tr style=\"text-align: right;\">\n",
       "      <th></th>\n",
       "      <th>category</th>\n",
       "      <th>location_type</th>\n",
       "      <th>location</th>\n",
       "      <th>outcome_status</th>\n",
       "      <th>id</th>\n",
       "      <th>month</th>\n",
       "    </tr>\n",
       "  </thead>\n",
       "  <tbody>\n",
       "    <tr>\n",
       "      <th>0</th>\n",
       "      <td>anti-social-behaviour</td>\n",
       "      <td>Force</td>\n",
       "      <td>{'latitude': '50.799193', 'street': {'id': 1554345, 'name': 'On or near Surrey Street'}, 'longitude': '-1.090585'}</td>\n",
       "      <td>None</td>\n",
       "      <td>114636927</td>\n",
       "      <td>2023-11</td>\n",
       "    </tr>\n",
       "    <tr>\n",
       "      <th>1</th>\n",
       "      <td>anti-social-behaviour</td>\n",
       "      <td>Force</td>\n",
       "      <td>{'latitude': '50.804435', 'street': {'id': 1555688, 'name': 'On or near Bowler Court'}, 'longitude': '-1.065478'}</td>\n",
       "      <td>None</td>\n",
       "      <td>114638109</td>\n",
       "      <td>2023-11</td>\n",
       "    </tr>\n",
       "    <tr>\n",
       "      <th>2</th>\n",
       "      <td>anti-social-behaviour</td>\n",
       "      <td>Force</td>\n",
       "      <td>{'latitude': '50.810153', 'street': {'id': 1555374, 'name': 'On or near Langley Road'}, 'longitude': '-1.073184'}</td>\n",
       "      <td>None</td>\n",
       "      <td>114640935</td>\n",
       "      <td>2023-11</td>\n",
       "    </tr>\n",
       "    <tr>\n",
       "      <th>3</th>\n",
       "      <td>anti-social-behaviour</td>\n",
       "      <td>Force</td>\n",
       "      <td>{'latitude': '50.799193', 'street': {'id': 1554345, 'name': 'On or near Surrey Street'}, 'longitude': '-1.090585'}</td>\n",
       "      <td>None</td>\n",
       "      <td>114639667</td>\n",
       "      <td>2023-11</td>\n",
       "    </tr>\n",
       "    <tr>\n",
       "      <th>4</th>\n",
       "      <td>anti-social-behaviour</td>\n",
       "      <td>Force</td>\n",
       "      <td>{'latitude': '50.801624', 'street': {'id': 1553862, 'name': 'On or near Cumberland Street'}, 'longitude': '-1.101493'}</td>\n",
       "      <td>None</td>\n",
       "      <td>114669777</td>\n",
       "      <td>2023-11</td>\n",
       "    </tr>\n",
       "  </tbody>\n",
       "</table>\n",
       "</div>"
      ],
      "text/plain": [
       "                category location_type  \\\n",
       "0  anti-social-behaviour         Force   \n",
       "1  anti-social-behaviour         Force   \n",
       "2  anti-social-behaviour         Force   \n",
       "3  anti-social-behaviour         Force   \n",
       "4  anti-social-behaviour         Force   \n",
       "\n",
       "                                                                                                                 location  \\\n",
       "0      {'latitude': '50.799193', 'street': {'id': 1554345, 'name': 'On or near Surrey Street'}, 'longitude': '-1.090585'}   \n",
       "1       {'latitude': '50.804435', 'street': {'id': 1555688, 'name': 'On or near Bowler Court'}, 'longitude': '-1.065478'}   \n",
       "2       {'latitude': '50.810153', 'street': {'id': 1555374, 'name': 'On or near Langley Road'}, 'longitude': '-1.073184'}   \n",
       "3      {'latitude': '50.799193', 'street': {'id': 1554345, 'name': 'On or near Surrey Street'}, 'longitude': '-1.090585'}   \n",
       "4  {'latitude': '50.801624', 'street': {'id': 1553862, 'name': 'On or near Cumberland Street'}, 'longitude': '-1.101493'}   \n",
       "\n",
       "  outcome_status         id    month  \n",
       "0           None  114636927  2023-11  \n",
       "1           None  114638109  2023-11  \n",
       "2           None  114640935  2023-11  \n",
       "3           None  114639667  2023-11  \n",
       "4           None  114669777  2023-11  "
      ]
     },
     "execution_count": 3,
     "metadata": {},
     "output_type": "execute_result"
    }
   ],
   "source": [
    "crime_json = response.json()\n",
    "df = pd.DataFrame(crime_json)\n",
    "pd.set_option('display.max_columns', None)\n",
    "pd.set_option('display.max_colwidth', None)\n",
    "df.drop(labels=['context', 'persistent_id', 'location_subtype'], axis=1, inplace=True)\n",
    "df.head()"
   ]
  },
  {
   "cell_type": "code",
   "execution_count": 4,
   "id": "4027e4a7-3c67-4305-8b0c-b0a721bbc02a",
   "metadata": {},
   "outputs": [
    {
     "name": "stdout",
     "output_type": "stream",
     "text": [
      "category: 0\n",
      "location_type: 0\n",
      "location: 0\n",
      "outcome_status: 93\n",
      "id: 0\n",
      "month: 0\n"
     ]
    }
   ],
   "source": [
    "for row in df:\n",
    "    print(f\"{row}: \" + str(df[row].isnull().sum()))"
   ]
  },
  {
   "cell_type": "code",
   "execution_count": 5,
   "id": "5ba16f00-cac2-4896-9b76-23d3a9063ffa",
   "metadata": {
    "scrolled": true
   },
   "outputs": [
    {
     "data": {
      "text/plain": [
       "0"
      ]
     },
     "execution_count": 5,
     "metadata": {},
     "output_type": "execute_result"
    }
   ],
   "source": [
    "df['id'].duplicated().sum()"
   ]
  },
  {
   "cell_type": "code",
   "execution_count": 6,
   "id": "610fac52-8780-4d2c-8dcc-7a83ed0fd49b",
   "metadata": {},
   "outputs": [
    {
     "data": {
      "text/plain": [
       "2023-11    981\n",
       "Name: month, dtype: int64"
      ]
     },
     "execution_count": 6,
     "metadata": {},
     "output_type": "execute_result"
    }
   ],
   "source": [
    "df['month'].value_counts()"
   ]
  },
  {
   "cell_type": "code",
   "execution_count": 7,
   "id": "cb47acde-ce1d-4617-84fa-a65284f857b5",
   "metadata": {
    "scrolled": true
   },
   "outputs": [
    {
     "data": {
      "text/plain": [
       "category                  object\n",
       "location_type             object\n",
       "location                  object\n",
       "outcome_status            object\n",
       "id                         int64\n",
       "month             datetime64[ns]\n",
       "dtype: object"
      ]
     },
     "execution_count": 7,
     "metadata": {},
     "output_type": "execute_result"
    }
   ],
   "source": [
    "df.dtypes\n",
    "df['month'] = pd.to_datetime(df['month'])\n",
    "df.dtypes"
   ]
  },
  {
   "cell_type": "code",
   "execution_count": 8,
   "id": "5d971914-7252-43ce-8ac4-c868690b1583",
   "metadata": {},
   "outputs": [
    {
     "data": {
      "text/html": [
       "<div>\n",
       "<style scoped>\n",
       "    .dataframe tbody tr th:only-of-type {\n",
       "        vertical-align: middle;\n",
       "    }\n",
       "\n",
       "    .dataframe tbody tr th {\n",
       "        vertical-align: top;\n",
       "    }\n",
       "\n",
       "    .dataframe thead th {\n",
       "        text-align: right;\n",
       "    }\n",
       "</style>\n",
       "<table border=\"1\" class=\"dataframe\">\n",
       "  <thead>\n",
       "    <tr style=\"text-align: right;\">\n",
       "      <th></th>\n",
       "      <th>category</th>\n",
       "      <th>location_type</th>\n",
       "      <th>location</th>\n",
       "      <th>outcome_status</th>\n",
       "      <th>id</th>\n",
       "      <th>month</th>\n",
       "    </tr>\n",
       "  </thead>\n",
       "  <tbody>\n",
       "    <tr>\n",
       "      <th>438</th>\n",
       "      <td>shoplifting</td>\n",
       "      <td>Force</td>\n",
       "      <td>{'latitude': '50.796927', 'street': {'id': 1553780, 'name': 'On or near Victory Road'}, 'longitude': '-1.104648'}</td>\n",
       "      <td>Local resolution</td>\n",
       "      <td>114660953</td>\n",
       "      <td>2023-11-01</td>\n",
       "    </tr>\n",
       "    <tr>\n",
       "      <th>199</th>\n",
       "      <td>drugs</td>\n",
       "      <td>Force</td>\n",
       "      <td>{'latitude': '50.797516', 'street': {'id': 1555364, 'name': 'On or near Thorncroft Road'}, 'longitude': '-1.074115'}</td>\n",
       "      <td>Investigation complete; no suspect identified</td>\n",
       "      <td>114662668</td>\n",
       "      <td>2023-11-01</td>\n",
       "    </tr>\n",
       "    <tr>\n",
       "      <th>412</th>\n",
       "      <td>shoplifting</td>\n",
       "      <td>Force</td>\n",
       "      <td>{'latitude': '50.796716', 'street': {'id': 1554279, 'name': 'On or near Alec Rose Lane'}, 'longitude': '-1.091314'}</td>\n",
       "      <td>Investigation complete; no suspect identified</td>\n",
       "      <td>114654533</td>\n",
       "      <td>2023-11-01</td>\n",
       "    </tr>\n",
       "    <tr>\n",
       "      <th>879</th>\n",
       "      <td>violent-crime</td>\n",
       "      <td>Force</td>\n",
       "      <td>{'latitude': '50.801747', 'street': {'id': 1554542, 'name': 'On or near Jacob's Street'}, 'longitude': '-1.087243'}</td>\n",
       "      <td>Unable to prosecute suspect</td>\n",
       "      <td>114669712</td>\n",
       "      <td>2023-11-01</td>\n",
       "    </tr>\n",
       "    <tr>\n",
       "      <th>197</th>\n",
       "      <td>drugs</td>\n",
       "      <td>Force</td>\n",
       "      <td>{'latitude': '50.796530', 'street': {'id': 1554438, 'name': 'On or near Parking Area'}, 'longitude': '-1.089388'}</td>\n",
       "      <td>Local resolution</td>\n",
       "      <td>114658963</td>\n",
       "      <td>2023-11-01</td>\n",
       "    </tr>\n",
       "    <tr>\n",
       "      <th>392</th>\n",
       "      <td>shoplifting</td>\n",
       "      <td>Force</td>\n",
       "      <td>{'latitude': '50.808133', 'street': {'id': 1555349, 'name': 'On or near Bettesworth Road'}, 'longitude': '-1.073593'}</td>\n",
       "      <td>Investigation complete; no suspect identified</td>\n",
       "      <td>114654409</td>\n",
       "      <td>2023-11-01</td>\n",
       "    </tr>\n",
       "    <tr>\n",
       "      <th>15</th>\n",
       "      <td>anti-social-behaviour</td>\n",
       "      <td>Force</td>\n",
       "      <td>{'latitude': '50.793222', 'street': {'id': 1554620, 'name': 'On or near Worcester Close'}, 'longitude': '-1.086019'}</td>\n",
       "      <td>None</td>\n",
       "      <td>114671361</td>\n",
       "      <td>2023-11-01</td>\n",
       "    </tr>\n",
       "    <tr>\n",
       "      <th>648</th>\n",
       "      <td>violent-crime</td>\n",
       "      <td>Force</td>\n",
       "      <td>{'latitude': '50.805031', 'street': {'id': 1554919, 'name': 'On or near Turner Road'}, 'longitude': '-1.081730'}</td>\n",
       "      <td>Unable to prosecute suspect</td>\n",
       "      <td>114669642</td>\n",
       "      <td>2023-11-01</td>\n",
       "    </tr>\n",
       "    <tr>\n",
       "      <th>947</th>\n",
       "      <td>violent-crime</td>\n",
       "      <td>Force</td>\n",
       "      <td>{'latitude': '50.793618', 'street': {'id': 1554462, 'name': 'On or near Grosvenor Street'}, 'longitude': '-1.088409'}</td>\n",
       "      <td>Status update unavailable</td>\n",
       "      <td>114632116</td>\n",
       "      <td>2023-11-01</td>\n",
       "    </tr>\n",
       "    <tr>\n",
       "      <th>36</th>\n",
       "      <td>anti-social-behaviour</td>\n",
       "      <td>Force</td>\n",
       "      <td>{'latitude': '50.800578', 'street': {'id': 1554507, 'name': 'On or near Parking Area'}, 'longitude': '-1.087209'}</td>\n",
       "      <td>None</td>\n",
       "      <td>114664712</td>\n",
       "      <td>2023-11-01</td>\n",
       "    </tr>\n",
       "  </tbody>\n",
       "</table>\n",
       "</div>"
      ],
      "text/plain": [
       "                  category location_type  \\\n",
       "438            shoplifting         Force   \n",
       "199                  drugs         Force   \n",
       "412            shoplifting         Force   \n",
       "879          violent-crime         Force   \n",
       "197                  drugs         Force   \n",
       "392            shoplifting         Force   \n",
       "15   anti-social-behaviour         Force   \n",
       "648          violent-crime         Force   \n",
       "947          violent-crime         Force   \n",
       "36   anti-social-behaviour         Force   \n",
       "\n",
       "                                                                                                                  location  \\\n",
       "438      {'latitude': '50.796927', 'street': {'id': 1553780, 'name': 'On or near Victory Road'}, 'longitude': '-1.104648'}   \n",
       "199   {'latitude': '50.797516', 'street': {'id': 1555364, 'name': 'On or near Thorncroft Road'}, 'longitude': '-1.074115'}   \n",
       "412    {'latitude': '50.796716', 'street': {'id': 1554279, 'name': 'On or near Alec Rose Lane'}, 'longitude': '-1.091314'}   \n",
       "879    {'latitude': '50.801747', 'street': {'id': 1554542, 'name': 'On or near Jacob's Street'}, 'longitude': '-1.087243'}   \n",
       "197      {'latitude': '50.796530', 'street': {'id': 1554438, 'name': 'On or near Parking Area'}, 'longitude': '-1.089388'}   \n",
       "392  {'latitude': '50.808133', 'street': {'id': 1555349, 'name': 'On or near Bettesworth Road'}, 'longitude': '-1.073593'}   \n",
       "15    {'latitude': '50.793222', 'street': {'id': 1554620, 'name': 'On or near Worcester Close'}, 'longitude': '-1.086019'}   \n",
       "648       {'latitude': '50.805031', 'street': {'id': 1554919, 'name': 'On or near Turner Road'}, 'longitude': '-1.081730'}   \n",
       "947  {'latitude': '50.793618', 'street': {'id': 1554462, 'name': 'On or near Grosvenor Street'}, 'longitude': '-1.088409'}   \n",
       "36       {'latitude': '50.800578', 'street': {'id': 1554507, 'name': 'On or near Parking Area'}, 'longitude': '-1.087209'}   \n",
       "\n",
       "                                    outcome_status         id      month  \n",
       "438                               Local resolution  114660953 2023-11-01  \n",
       "199  Investigation complete; no suspect identified  114662668 2023-11-01  \n",
       "412  Investigation complete; no suspect identified  114654533 2023-11-01  \n",
       "879                    Unable to prosecute suspect  114669712 2023-11-01  \n",
       "197                               Local resolution  114658963 2023-11-01  \n",
       "392  Investigation complete; no suspect identified  114654409 2023-11-01  \n",
       "15                                            None  114671361 2023-11-01  \n",
       "648                    Unable to prosecute suspect  114669642 2023-11-01  \n",
       "947                      Status update unavailable  114632116 2023-11-01  \n",
       "36                                            None  114664712 2023-11-01  "
      ]
     },
     "execution_count": 8,
     "metadata": {},
     "output_type": "execute_result"
    }
   ],
   "source": [
    "outcome_status = []\n",
    "for row in df['outcome_status']:\n",
    "    if row is not None:\n",
    "        outcome_status.append(row['category'])\n",
    "    else:\n",
    "        outcome_status.append('None')\n",
    "\n",
    "df['outcome_status'] = outcome_status\n",
    "df.sample(10)"
   ]
  },
  {
   "cell_type": "code",
   "execution_count": 9,
   "id": "b00bc9e2-8136-4a45-9980-0e6ec6afc179",
   "metadata": {},
   "outputs": [
    {
     "data": {
      "text/html": [
       "<div>\n",
       "<style scoped>\n",
       "    .dataframe tbody tr th:only-of-type {\n",
       "        vertical-align: middle;\n",
       "    }\n",
       "\n",
       "    .dataframe tbody tr th {\n",
       "        vertical-align: top;\n",
       "    }\n",
       "\n",
       "    .dataframe thead th {\n",
       "        text-align: right;\n",
       "    }\n",
       "</style>\n",
       "<table border=\"1\" class=\"dataframe\">\n",
       "  <thead>\n",
       "    <tr style=\"text-align: right;\">\n",
       "      <th></th>\n",
       "      <th>category</th>\n",
       "      <th>location_type</th>\n",
       "      <th>location</th>\n",
       "      <th>outcome_status</th>\n",
       "      <th>id</th>\n",
       "      <th>month</th>\n",
       "    </tr>\n",
       "  </thead>\n",
       "  <tbody>\n",
       "    <tr>\n",
       "      <th>41</th>\n",
       "      <td>anti-social-behaviour</td>\n",
       "      <td>Force</td>\n",
       "      <td>Winston Churchill Avenue</td>\n",
       "      <td>None</td>\n",
       "      <td>114654485</td>\n",
       "      <td>2023-11-01</td>\n",
       "    </tr>\n",
       "    <tr>\n",
       "      <th>716</th>\n",
       "      <td>violent-crime</td>\n",
       "      <td>Force</td>\n",
       "      <td>Little George Street</td>\n",
       "      <td>Formal action is not in the public interest</td>\n",
       "      <td>114642302</td>\n",
       "      <td>2023-11-01</td>\n",
       "    </tr>\n",
       "    <tr>\n",
       "      <th>774</th>\n",
       "      <td>violent-crime</td>\n",
       "      <td>Force</td>\n",
       "      <td>Parking Area</td>\n",
       "      <td>Unable to prosecute suspect</td>\n",
       "      <td>114646330</td>\n",
       "      <td>2023-11-01</td>\n",
       "    </tr>\n",
       "    <tr>\n",
       "      <th>61</th>\n",
       "      <td>anti-social-behaviour</td>\n",
       "      <td>Force</td>\n",
       "      <td>Prince George Street</td>\n",
       "      <td>None</td>\n",
       "      <td>114635000</td>\n",
       "      <td>2023-11-01</td>\n",
       "    </tr>\n",
       "    <tr>\n",
       "      <th>489</th>\n",
       "      <td>shoplifting</td>\n",
       "      <td>Force</td>\n",
       "      <td>Moorland Road</td>\n",
       "      <td>Unable to prosecute suspect</td>\n",
       "      <td>114636799</td>\n",
       "      <td>2023-11-01</td>\n",
       "    </tr>\n",
       "    <tr>\n",
       "      <th>539</th>\n",
       "      <td>vehicle-crime</td>\n",
       "      <td>Force</td>\n",
       "      <td>Earlsdon Street</td>\n",
       "      <td>Unable to prosecute suspect</td>\n",
       "      <td>114649273</td>\n",
       "      <td>2023-11-01</td>\n",
       "    </tr>\n",
       "    <tr>\n",
       "      <th>668</th>\n",
       "      <td>violent-crime</td>\n",
       "      <td>Force</td>\n",
       "      <td>Further/higher Educational Building</td>\n",
       "      <td>Unable to prosecute suspect</td>\n",
       "      <td>114666431</td>\n",
       "      <td>2023-11-01</td>\n",
       "    </tr>\n",
       "    <tr>\n",
       "      <th>834</th>\n",
       "      <td>violent-crime</td>\n",
       "      <td>Force</td>\n",
       "      <td>Guildhall Walk</td>\n",
       "      <td>Investigation complete; no suspect identified</td>\n",
       "      <td>114667934</td>\n",
       "      <td>2023-11-01</td>\n",
       "    </tr>\n",
       "    <tr>\n",
       "      <th>336</th>\n",
       "      <td>public-order</td>\n",
       "      <td>Force</td>\n",
       "      <td>Havisham Road</td>\n",
       "      <td>Status update unavailable</td>\n",
       "      <td>114671357</td>\n",
       "      <td>2023-11-01</td>\n",
       "    </tr>\n",
       "    <tr>\n",
       "      <th>703</th>\n",
       "      <td>violent-crime</td>\n",
       "      <td>Force</td>\n",
       "      <td>Bettesworth Road</td>\n",
       "      <td>Unable to prosecute suspect</td>\n",
       "      <td>114657135</td>\n",
       "      <td>2023-11-01</td>\n",
       "    </tr>\n",
       "  </tbody>\n",
       "</table>\n",
       "</div>"
      ],
      "text/plain": [
       "                  category location_type  \\\n",
       "41   anti-social-behaviour         Force   \n",
       "716          violent-crime         Force   \n",
       "774          violent-crime         Force   \n",
       "61   anti-social-behaviour         Force   \n",
       "489            shoplifting         Force   \n",
       "539          vehicle-crime         Force   \n",
       "668          violent-crime         Force   \n",
       "834          violent-crime         Force   \n",
       "336           public-order         Force   \n",
       "703          violent-crime         Force   \n",
       "\n",
       "                                 location  \\\n",
       "41               Winston Churchill Avenue   \n",
       "716                  Little George Street   \n",
       "774                          Parking Area   \n",
       "61                   Prince George Street   \n",
       "489                         Moorland Road   \n",
       "539                       Earlsdon Street   \n",
       "668   Further/higher Educational Building   \n",
       "834                        Guildhall Walk   \n",
       "336                         Havisham Road   \n",
       "703                      Bettesworth Road   \n",
       "\n",
       "                                    outcome_status         id      month  \n",
       "41                                            None  114654485 2023-11-01  \n",
       "716    Formal action is not in the public interest  114642302 2023-11-01  \n",
       "774                    Unable to prosecute suspect  114646330 2023-11-01  \n",
       "61                                            None  114635000 2023-11-01  \n",
       "489                    Unable to prosecute suspect  114636799 2023-11-01  \n",
       "539                    Unable to prosecute suspect  114649273 2023-11-01  \n",
       "668                    Unable to prosecute suspect  114666431 2023-11-01  \n",
       "834  Investigation complete; no suspect identified  114667934 2023-11-01  \n",
       "336                      Status update unavailable  114671357 2023-11-01  \n",
       "703                    Unable to prosecute suspect  114657135 2023-11-01  "
      ]
     },
     "execution_count": 9,
     "metadata": {},
     "output_type": "execute_result"
    }
   ],
   "source": [
    "location = []\n",
    "for row in df['location']:\n",
    "    crime_loc = row['street']['name']\n",
    "    crime_loc = crime_loc.replace('On or near', '')\n",
    "    location.append(crime_loc)\n",
    "\n",
    "df['location'] = location\n",
    "df.sample(10)"
   ]
  },
  {
   "cell_type": "code",
   "execution_count": 10,
   "id": "f5fc0b89-8b07-4c41-9651-8105163f2efa",
   "metadata": {},
   "outputs": [
    {
     "data": {
      "text/plain": [
       "([0, 1, 2, 3, 4],\n",
       " [Text(0, 0, 'violent-crime'),\n",
       "  Text(1, 0, 'shoplifting'),\n",
       "  Text(2, 0, 'anti-social-behaviour'),\n",
       "  Text(3, 0, 'public-order'),\n",
       "  Text(4, 0, 'vehicle-crime')])"
      ]
     },
     "execution_count": 10,
     "metadata": {},
     "output_type": "execute_result"
    },
    {
     "data": {
      "image/png": "[encoded data removed]",
      "text/plain": [
       "<Figure size 640x480 with 1 Axes>"
      ]
     },
     "metadata": {},
     "output_type": "display_data"
    }
   ],
   "source": [
    "top_5_crime = df['category'].value_counts()[:5]\n",
    "sns.barplot(top_5_crime)\n",
    "plt.xticks(rotation=45)"
   ]
  },
  {
   "cell_type": "code",
   "execution_count": 11,
   "id": "c9a5ba70-dba9-42d2-9b9c-04a1c731c42b",
   "metadata": {},
   "outputs": [
    {
     "data": {
      "text/plain": [
       "([0, 1, 2, 3, 4],\n",
       " [Text(0, 0, ' Parking Area'),\n",
       "  Text(1, 0, ' Supermarket'),\n",
       "  Text(2, 0, \" Jacob's Street\"),\n",
       "  Text(3, 0, ' Guildhall Walk'),\n",
       "  Text(4, 0, ' Kingswell Street')])"
      ]
     },
     "execution_count": 11,
     "metadata": {},
     "output_type": "execute_result"
    },
    {
     "data": {
      "image/png": "[encoded data removed]",
      "text/plain": [
       "<Figure size 640x480 with 1 Axes>"
      ]
     },
     "metadata": {},
     "output_type": "display_data"
    }
   ],
   "source": [
    "top_5_loc = df['location'].value_counts()[:5]\n",
    "sns.barplot(top_5_loc)\n",
    "plt.xticks(rotation=45)"
   ]
  },
  {
   "cell_type": "code",
   "execution_count": 12,
   "id": "d907bec0-520e-44e0-8753-2d386ec42078",
   "metadata": {},
   "outputs": [
    {
     "data": {
      "text/plain": [
       "([0, 1], [Text(0, 0, 'Force'), Text(1, 0, 'BTP')])"
      ]
     },
     "execution_count": 12,
     "metadata": {},
     "output_type": "execute_result"
    },
    {
     "data": {
      "image/png": "[encoded data removed]",
      "text/plain": [
       "<Figure size 640x480 with 1 Axes>"
      ]
     },
     "metadata": {},
     "output_type": "display_data"
    }
   ],
   "source": [
    "loc_type = df['location_type'].value_counts()\n",
    "sns.barplot(loc_type)\n",
    "plt.xticks(rotation=45)"
   ]
  },
  {
   "cell_type": "code",
   "execution_count": 13,
   "id": "0cd5d746-4c2e-4a13-9e81-0a77784eb36f",
   "metadata": {},
   "outputs": [
    {
     "data": {
      "text/plain": [
       "([0, 1, 2, 3, 4],\n",
       " [Text(0, 0, 'Investigation complete; no suspect identified'),\n",
       "  Text(1, 0, 'Unable to prosecute suspect'),\n",
       "  Text(2, 0, 'Status update unavailable'),\n",
       "  Text(3, 0, 'None'),\n",
       "  Text(4, 0, 'Awaiting court outcome')])"
      ]
     },
     "execution_count": 13,
     "metadata": {},
     "output_type": "execute_result"
    },
    {
     "data": {
      "image/png": "[encoded data removed]",
      "text/plain": [
       "<Figure size 640x480 with 1 Axes>"
      ]
     },
     "metadata": {},
     "output_type": "display_data"
    }
   ],
   "source": [
    "status = df['outcome_status'].value_counts()[:5]\n",
    "sns.barplot(status)\n",
    "plt.xticks(rotation=90)"
   ]
  },
  {
   "cell_type": "code",
   "execution_count": 14,
   "id": "aa6f0141-8d09-4374-bf08-be33da18c223",
   "metadata": {},
   "outputs": [
    {
     "data": {
      "text/plain": [
       "(981, 6)"
      ]
     },
     "execution_count": 14,
     "metadata": {},
     "output_type": "execute_result"
    }
   ],
   "source": [
    "df.shape\n"
   ]
  },
  {
   "cell_type": "code",
   "execution_count": 15,
   "id": "b2ac774c-c20f-4972-b079-b0850c0e365e",
   "metadata": {},
   "outputs": [],
   "source": [
    "df.to_csv(\"Crimes_Port_2023_11\", index=False)"
   ]
  },
  {
   "cell_type": "code",
   "execution_count": null,
   "id": "cecaab23-451f-45a9-b274-3f3c24e9445a",
   "metadata": {},
   "outputs": [],
   "source": []
  }
 ],
 "metadata": {
  "kernelspec": {
   "display_name": "Python 3 (ipykernel)",
   "language": "python",
   "name": "python3"
  },
  "language_info": {
   "codemirror_mode": {
    "name": "ipython",
    "version": 3
   },
   "file_extension": ".py",
   "mimetype": "text/x-python",
   "name": "python",
   "nbconvert_exporter": "python",
   "pygments_lexer": "ipython3",
   "version": "3.9.7"
  }
 },
 "nbformat": 4,
 "nbformat_minor": 5
}
