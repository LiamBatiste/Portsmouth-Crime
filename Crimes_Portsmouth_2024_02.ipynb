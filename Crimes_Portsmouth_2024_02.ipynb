{
 "cells": [
  {
   "cell_type": "code",
   "execution_count": 8,
   "id": "16c37a17-60cd-490c-b4c5-5aefde48d4d8",
   "metadata": {},
   "outputs": [
    {
     "name": "stdout",
     "output_type": "stream",
     "text": [
      "done\n"
     ]
    }
   ],
   "source": [
    "import requests \n",
    "import pandas as pd\n",
    "import numpy \n",
    "import seaborn as sns\n",
    "import matplotlib.pyplot as plt\n",
    "print(\"done\")"
   ]
  },
  {
   "cell_type": "code",
   "execution_count": 9,
   "id": "9f4cb998-1ee5-4403-b3f8-2ead2ab5bdf2",
   "metadata": {},
   "outputs": [
    {
     "name": "stdout",
     "output_type": "stream",
     "text": [
      "<Response [200]>\n"
     ]
    }
   ],
   "source": [
    "# Where is the majoirty of crime occuring?\n",
    "# What is the most frequent category of offence? \n",
    "# Is there a trend in category of offence over time? (time series analysis)\n",
    "\n",
    "params = {\n",
    "    'lat': 50.805832,  # Latitude of Portsmouth\n",
    "    'lng': -1.087222,   # Longitude of Portsmouth  \n",
    "    'date': '2024-02'\n",
    "}\n",
    "\n",
    "response = requests.get(\"https://data.police.uk/api/crimes-street/all-crime\", params=params)\n",
    "print(response)"
   ]
  },
  {
   "cell_type": "code",
   "execution_count": 10,
   "id": "6499bc4e-fc55-4082-bfdb-cffe83b9fef7",
   "metadata": {
    "scrolled": true
   },
   "outputs": [
    {
     "data": {
      "text/html": [
       "<div>\n",
       "<style scoped>\n",
       "    .dataframe tbody tr th:only-of-type {\n",
       "        vertical-align: middle;\n",
       "    }\n",
       "\n",
       "    .dataframe tbody tr th {\n",
       "        vertical-align: top;\n",
       "    }\n",
       "\n",
       "    .dataframe thead th {\n",
       "        text-align: right;\n",
       "    }\n",
       "</style>\n",
       "<table border=\"1\" class=\"dataframe\">\n",
       "  <thead>\n",
       "    <tr style=\"text-align: right;\">\n",
       "      <th></th>\n",
       "      <th>category</th>\n",
       "      <th>location_type</th>\n",
       "      <th>location</th>\n",
       "      <th>outcome_status</th>\n",
       "      <th>id</th>\n",
       "      <th>month</th>\n",
       "    </tr>\n",
       "  </thead>\n",
       "  <tbody>\n",
       "    <tr>\n",
       "      <th>0</th>\n",
       "      <td>anti-social-behaviour</td>\n",
       "      <td>Force</td>\n",
       "      <td>{'latitude': '50.818547', 'street': {'id': 1555012, 'name': 'On or near Connaught Road'}, 'longitude': '-1.079406'}</td>\n",
       "      <td>None</td>\n",
       "      <td>116778196</td>\n",
       "      <td>2024-02</td>\n",
       "    </tr>\n",
       "    <tr>\n",
       "      <th>1</th>\n",
       "      <td>anti-social-behaviour</td>\n",
       "      <td>Force</td>\n",
       "      <td>{'latitude': '50.796451', 'street': {'id': 1554063, 'name': 'On or near White Swan Road'}, 'longitude': '-1.094214'}</td>\n",
       "      <td>None</td>\n",
       "      <td>116777000</td>\n",
       "      <td>2024-02</td>\n",
       "    </tr>\n",
       "    <tr>\n",
       "      <th>2</th>\n",
       "      <td>anti-social-behaviour</td>\n",
       "      <td>Force</td>\n",
       "      <td>{'latitude': '50.819081', 'street': {'id': 1554390, 'name': 'On or near Sports/recreation Area'}, 'longitude': '-1.090120'}</td>\n",
       "      <td>None</td>\n",
       "      <td>116778206</td>\n",
       "      <td>2024-02</td>\n",
       "    </tr>\n",
       "    <tr>\n",
       "      <th>3</th>\n",
       "      <td>anti-social-behaviour</td>\n",
       "      <td>Force</td>\n",
       "      <td>{'latitude': '50.810243', 'street': {'id': 1555564, 'name': 'On or near Aylesbury Road'}, 'longitude': '-1.069861'}</td>\n",
       "      <td>None</td>\n",
       "      <td>116777894</td>\n",
       "      <td>2024-02</td>\n",
       "    </tr>\n",
       "    <tr>\n",
       "      <th>4</th>\n",
       "      <td>anti-social-behaviour</td>\n",
       "      <td>Force</td>\n",
       "      <td>{'latitude': '50.819081', 'street': {'id': 1554390, 'name': 'On or near Sports/recreation Area'}, 'longitude': '-1.090120'}</td>\n",
       "      <td>None</td>\n",
       "      <td>116778208</td>\n",
       "      <td>2024-02</td>\n",
       "    </tr>\n",
       "  </tbody>\n",
       "</table>\n",
       "</div>"
      ],
      "text/plain": [
       "                category location_type  \\\n",
       "0  anti-social-behaviour         Force   \n",
       "1  anti-social-behaviour         Force   \n",
       "2  anti-social-behaviour         Force   \n",
       "3  anti-social-behaviour         Force   \n",
       "4  anti-social-behaviour         Force   \n",
       "\n",
       "                                                                                                                      location  \\\n",
       "0          {'latitude': '50.818547', 'street': {'id': 1555012, 'name': 'On or near Connaught Road'}, 'longitude': '-1.079406'}   \n",
       "1         {'latitude': '50.796451', 'street': {'id': 1554063, 'name': 'On or near White Swan Road'}, 'longitude': '-1.094214'}   \n",
       "2  {'latitude': '50.819081', 'street': {'id': 1554390, 'name': 'On or near Sports/recreation Area'}, 'longitude': '-1.090120'}   \n",
       "3          {'latitude': '50.810243', 'street': {'id': 1555564, 'name': 'On or near Aylesbury Road'}, 'longitude': '-1.069861'}   \n",
       "4  {'latitude': '50.819081', 'street': {'id': 1554390, 'name': 'On or near Sports/recreation Area'}, 'longitude': '-1.090120'}   \n",
       "\n",
       "  outcome_status         id    month  \n",
       "0           None  116778196  2024-02  \n",
       "1           None  116777000  2024-02  \n",
       "2           None  116778206  2024-02  \n",
       "3           None  116777894  2024-02  \n",
       "4           None  116778208  2024-02  "
      ]
     },
     "execution_count": 10,
     "metadata": {},
     "output_type": "execute_result"
    }
   ],
   "source": [
    "crime_json = response.json()\n",
    "df = pd.DataFrame(crime_json)\n",
    "pd.set_option('display.max_columns', None)\n",
    "pd.set_option('display.max_colwidth', None)\n",
    "df.drop(labels=['context', 'persistent_id', 'location_subtype'], axis=1, inplace=True)\n",
    "df.head()"
   ]
  },
  {
   "cell_type": "code",
   "execution_count": 11,
   "id": "4027e4a7-3c67-4305-8b0c-b0a721bbc02a",
   "metadata": {},
   "outputs": [
    {
     "name": "stdout",
     "output_type": "stream",
     "text": [
      "category: 0\n",
      "location_type: 0\n",
      "location: 0\n",
      "outcome_status: 77\n",
      "id: 0\n",
      "month: 0\n"
     ]
    }
   ],
   "source": [
    "for row in df:\n",
    "    print(f\"{row}: \" + str(df[row].isnull().sum()))"
   ]
  },
  {
   "cell_type": "code",
   "execution_count": 12,
   "id": "5ba16f00-cac2-4896-9b76-23d3a9063ffa",
   "metadata": {
    "scrolled": true
   },
   "outputs": [
    {
     "data": {
      "text/plain": [
       "0"
      ]
     },
     "execution_count": 12,
     "metadata": {},
     "output_type": "execute_result"
    }
   ],
   "source": [
    "df['id'].duplicated().sum()"
   ]
  },
  {
   "cell_type": "code",
   "execution_count": 13,
   "id": "610fac52-8780-4d2c-8dcc-7a83ed0fd49b",
   "metadata": {},
   "outputs": [
    {
     "data": {
      "text/plain": [
       "2024-02    932\n",
       "Name: month, dtype: int64"
      ]
     },
     "execution_count": 13,
     "metadata": {},
     "output_type": "execute_result"
    }
   ],
   "source": [
    "df['month'].value_counts()"
   ]
  },
  {
   "cell_type": "code",
   "execution_count": 14,
   "id": "cb47acde-ce1d-4617-84fa-a65284f857b5",
   "metadata": {
    "scrolled": true
   },
   "outputs": [
    {
     "data": {
      "text/plain": [
       "category                  object\n",
       "location_type             object\n",
       "location                  object\n",
       "outcome_status            object\n",
       "id                         int64\n",
       "month             datetime64[ns]\n",
       "dtype: object"
      ]
     },
     "execution_count": 14,
     "metadata": {},
     "output_type": "execute_result"
    }
   ],
   "source": [
    "df.dtypes\n",
    "df['month'] = pd.to_datetime(df['month'])\n",
    "df.dtypes"
   ]
  },
  {
   "cell_type": "code",
   "execution_count": 15,
   "id": "5d971914-7252-43ce-8ac4-c868690b1583",
   "metadata": {},
   "outputs": [
    {
     "data": {
      "text/html": [
       "<div>\n",
       "<style scoped>\n",
       "    .dataframe tbody tr th:only-of-type {\n",
       "        vertical-align: middle;\n",
       "    }\n",
       "\n",
       "    .dataframe tbody tr th {\n",
       "        vertical-align: top;\n",
       "    }\n",
       "\n",
       "    .dataframe thead th {\n",
       "        text-align: right;\n",
       "    }\n",
       "</style>\n",
       "<table border=\"1\" class=\"dataframe\">\n",
       "  <thead>\n",
       "    <tr style=\"text-align: right;\">\n",
       "      <th></th>\n",
       "      <th>category</th>\n",
       "      <th>location_type</th>\n",
       "      <th>location</th>\n",
       "      <th>outcome_status</th>\n",
       "      <th>id</th>\n",
       "      <th>month</th>\n",
       "    </tr>\n",
       "  </thead>\n",
       "  <tbody>\n",
       "    <tr>\n",
       "      <th>929</th>\n",
       "      <td>other-crime</td>\n",
       "      <td>Force</td>\n",
       "      <td>{'latitude': '50.806840', 'street': {'id': 1554760, 'name': 'On or near Nelson Road'}, 'longitude': '-1.084093'}</td>\n",
       "      <td>Under investigation</td>\n",
       "      <td>116777729</td>\n",
       "      <td>2024-02-01</td>\n",
       "    </tr>\n",
       "    <tr>\n",
       "      <th>861</th>\n",
       "      <td>violent-crime</td>\n",
       "      <td>Force</td>\n",
       "      <td>{'latitude': '50.817446', 'street': {'id': 1554423, 'name': 'On or near Parking Area'}, 'longitude': '-1.089223'}</td>\n",
       "      <td>Under investigation</td>\n",
       "      <td>116778162</td>\n",
       "      <td>2024-02-01</td>\n",
       "    </tr>\n",
       "    <tr>\n",
       "      <th>71</th>\n",
       "      <td>anti-social-behaviour</td>\n",
       "      <td>Force</td>\n",
       "      <td>{'latitude': '50.794158', 'street': {'id': 1554820, 'name': 'On or near Montgomerie Road'}, 'longitude': '-1.081531'}</td>\n",
       "      <td>None</td>\n",
       "      <td>116776734</td>\n",
       "      <td>2024-02-01</td>\n",
       "    </tr>\n",
       "    <tr>\n",
       "      <th>133</th>\n",
       "      <td>criminal-damage-arson</td>\n",
       "      <td>Force</td>\n",
       "      <td>{'latitude': '50.797516', 'street': {'id': 1555364, 'name': 'On or near Thorncroft Road'}, 'longitude': '-1.074115'}</td>\n",
       "      <td>Local resolution</td>\n",
       "      <td>116776986</td>\n",
       "      <td>2024-02-01</td>\n",
       "    </tr>\n",
       "    <tr>\n",
       "      <th>671</th>\n",
       "      <td>violent-crime</td>\n",
       "      <td>Force</td>\n",
       "      <td>{'latitude': '50.800181', 'street': {'id': 1554806, 'name': 'On or near Northam Mews'}, 'longitude': '-1.082407'}</td>\n",
       "      <td>Under investigation</td>\n",
       "      <td>116777198</td>\n",
       "      <td>2024-02-01</td>\n",
       "    </tr>\n",
       "    <tr>\n",
       "      <th>770</th>\n",
       "      <td>violent-crime</td>\n",
       "      <td>Force</td>\n",
       "      <td>{'latitude': '50.813869', 'street': {'id': 1555359, 'name': 'On or near Beaulieu Road'}, 'longitude': '-1.073452'}</td>\n",
       "      <td>Under investigation</td>\n",
       "      <td>116778021</td>\n",
       "      <td>2024-02-01</td>\n",
       "    </tr>\n",
       "    <tr>\n",
       "      <th>483</th>\n",
       "      <td>vehicle-crime</td>\n",
       "      <td>Force</td>\n",
       "      <td>{'latitude': '50.802946', 'street': {'id': 1554956, 'name': 'On or near Church Road'}, 'longitude': '-1.080650'}</td>\n",
       "      <td>Investigation complete; no suspect identified</td>\n",
       "      <td>116777490</td>\n",
       "      <td>2024-02-01</td>\n",
       "    </tr>\n",
       "    <tr>\n",
       "      <th>634</th>\n",
       "      <td>violent-crime</td>\n",
       "      <td>Force</td>\n",
       "      <td>{'latitude': '50.796687', 'street': {'id': 1553818, 'name': 'On or near Ordnance Row'}, 'longitude': '-1.103858'}</td>\n",
       "      <td>Under investigation</td>\n",
       "      <td>116776834</td>\n",
       "      <td>2024-02-01</td>\n",
       "    </tr>\n",
       "    <tr>\n",
       "      <th>786</th>\n",
       "      <td>violent-crime</td>\n",
       "      <td>Force</td>\n",
       "      <td>{'latitude': '50.816537', 'street': {'id': 1555063, 'name': 'On or near Parking Area'}, 'longitude': '-1.078793'}</td>\n",
       "      <td>Under investigation</td>\n",
       "      <td>116778132</td>\n",
       "      <td>2024-02-01</td>\n",
       "    </tr>\n",
       "    <tr>\n",
       "      <th>38</th>\n",
       "      <td>anti-social-behaviour</td>\n",
       "      <td>Force</td>\n",
       "      <td>{'latitude': '50.798059', 'street': {'id': 1555043, 'name': 'On or near Somers Road North'}, 'longitude': '-1.079057'}</td>\n",
       "      <td>None</td>\n",
       "      <td>116777087</td>\n",
       "      <td>2024-02-01</td>\n",
       "    </tr>\n",
       "  </tbody>\n",
       "</table>\n",
       "</div>"
      ],
      "text/plain": [
       "                  category location_type  \\\n",
       "929            other-crime         Force   \n",
       "861          violent-crime         Force   \n",
       "71   anti-social-behaviour         Force   \n",
       "133  criminal-damage-arson         Force   \n",
       "671          violent-crime         Force   \n",
       "770          violent-crime         Force   \n",
       "483          vehicle-crime         Force   \n",
       "634          violent-crime         Force   \n",
       "786          violent-crime         Force   \n",
       "38   anti-social-behaviour         Force   \n",
       "\n",
       "                                                                                                                   location  \\\n",
       "929        {'latitude': '50.806840', 'street': {'id': 1554760, 'name': 'On or near Nelson Road'}, 'longitude': '-1.084093'}   \n",
       "861       {'latitude': '50.817446', 'street': {'id': 1554423, 'name': 'On or near Parking Area'}, 'longitude': '-1.089223'}   \n",
       "71    {'latitude': '50.794158', 'street': {'id': 1554820, 'name': 'On or near Montgomerie Road'}, 'longitude': '-1.081531'}   \n",
       "133    {'latitude': '50.797516', 'street': {'id': 1555364, 'name': 'On or near Thorncroft Road'}, 'longitude': '-1.074115'}   \n",
       "671       {'latitude': '50.800181', 'street': {'id': 1554806, 'name': 'On or near Northam Mews'}, 'longitude': '-1.082407'}   \n",
       "770      {'latitude': '50.813869', 'street': {'id': 1555359, 'name': 'On or near Beaulieu Road'}, 'longitude': '-1.073452'}   \n",
       "483        {'latitude': '50.802946', 'street': {'id': 1554956, 'name': 'On or near Church Road'}, 'longitude': '-1.080650'}   \n",
       "634       {'latitude': '50.796687', 'street': {'id': 1553818, 'name': 'On or near Ordnance Row'}, 'longitude': '-1.103858'}   \n",
       "786       {'latitude': '50.816537', 'street': {'id': 1555063, 'name': 'On or near Parking Area'}, 'longitude': '-1.078793'}   \n",
       "38   {'latitude': '50.798059', 'street': {'id': 1555043, 'name': 'On or near Somers Road North'}, 'longitude': '-1.079057'}   \n",
       "\n",
       "                                    outcome_status         id      month  \n",
       "929                            Under investigation  116777729 2024-02-01  \n",
       "861                            Under investigation  116778162 2024-02-01  \n",
       "71                                            None  116776734 2024-02-01  \n",
       "133                               Local resolution  116776986 2024-02-01  \n",
       "671                            Under investigation  116777198 2024-02-01  \n",
       "770                            Under investigation  116778021 2024-02-01  \n",
       "483  Investigation complete; no suspect identified  116777490 2024-02-01  \n",
       "634                            Under investigation  116776834 2024-02-01  \n",
       "786                            Under investigation  116778132 2024-02-01  \n",
       "38                                            None  116777087 2024-02-01  "
      ]
     },
     "execution_count": 15,
     "metadata": {},
     "output_type": "execute_result"
    }
   ],
   "source": [
    "outcome_status = []\n",
    "for row in df['outcome_status']:\n",
    "    if row is not None:\n",
    "        outcome_status.append(row['category'])\n",
    "    else:\n",
    "        outcome_status.append('None')\n",
    "\n",
    "df['outcome_status'] = outcome_status\n",
    "df.sample(10)"
   ]
  },
  {
   "cell_type": "code",
   "execution_count": 16,
   "id": "b00bc9e2-8136-4a45-9980-0e6ec6afc179",
   "metadata": {},
   "outputs": [
    {
     "data": {
      "text/html": [
       "<div>\n",
       "<style scoped>\n",
       "    .dataframe tbody tr th:only-of-type {\n",
       "        vertical-align: middle;\n",
       "    }\n",
       "\n",
       "    .dataframe tbody tr th {\n",
       "        vertical-align: top;\n",
       "    }\n",
       "\n",
       "    .dataframe thead th {\n",
       "        text-align: right;\n",
       "    }\n",
       "</style>\n",
       "<table border=\"1\" class=\"dataframe\">\n",
       "  <thead>\n",
       "    <tr style=\"text-align: right;\">\n",
       "      <th></th>\n",
       "      <th>category</th>\n",
       "      <th>location_type</th>\n",
       "      <th>location</th>\n",
       "      <th>outcome_status</th>\n",
       "      <th>id</th>\n",
       "      <th>month</th>\n",
       "    </tr>\n",
       "  </thead>\n",
       "  <tbody>\n",
       "    <tr>\n",
       "      <th>322</th>\n",
       "      <td>public-order</td>\n",
       "      <td>Force</td>\n",
       "      <td>Further/higher Educational Building</td>\n",
       "      <td>Under investigation</td>\n",
       "      <td>116776853</td>\n",
       "      <td>2024-02-01</td>\n",
       "    </tr>\n",
       "    <tr>\n",
       "      <th>160</th>\n",
       "      <td>criminal-damage-arson</td>\n",
       "      <td>Force</td>\n",
       "      <td>Heathfield Road</td>\n",
       "      <td>Investigation complete; no suspect identified</td>\n",
       "      <td>116778020</td>\n",
       "      <td>2024-02-01</td>\n",
       "    </tr>\n",
       "    <tr>\n",
       "      <th>34</th>\n",
       "      <td>anti-social-behaviour</td>\n",
       "      <td>Force</td>\n",
       "      <td>Cumberland Street</td>\n",
       "      <td>None</td>\n",
       "      <td>116777385</td>\n",
       "      <td>2024-02-01</td>\n",
       "    </tr>\n",
       "    <tr>\n",
       "      <th>201</th>\n",
       "      <td>drugs</td>\n",
       "      <td>Force</td>\n",
       "      <td>Supermarket</td>\n",
       "      <td>Local resolution</td>\n",
       "      <td>116778007</td>\n",
       "      <td>2024-02-01</td>\n",
       "    </tr>\n",
       "    <tr>\n",
       "      <th>313</th>\n",
       "      <td>public-order</td>\n",
       "      <td>Force</td>\n",
       "      <td>Omega Street</td>\n",
       "      <td>Unable to prosecute suspect</td>\n",
       "      <td>116776946</td>\n",
       "      <td>2024-02-01</td>\n",
       "    </tr>\n",
       "    <tr>\n",
       "      <th>824</th>\n",
       "      <td>violent-crime</td>\n",
       "      <td>Force</td>\n",
       "      <td>Shopping Area</td>\n",
       "      <td>Unable to prosecute suspect</td>\n",
       "      <td>116777093</td>\n",
       "      <td>2024-02-01</td>\n",
       "    </tr>\n",
       "    <tr>\n",
       "      <th>520</th>\n",
       "      <td>violent-crime</td>\n",
       "      <td>Force</td>\n",
       "      <td>Further/higher Educational Building</td>\n",
       "      <td>Investigation complete; no suspect identified</td>\n",
       "      <td>116776850</td>\n",
       "      <td>2024-02-01</td>\n",
       "    </tr>\n",
       "    <tr>\n",
       "      <th>652</th>\n",
       "      <td>violent-crime</td>\n",
       "      <td>Force</td>\n",
       "      <td>Vivash Road</td>\n",
       "      <td>Under investigation</td>\n",
       "      <td>116777055</td>\n",
       "      <td>2024-02-01</td>\n",
       "    </tr>\n",
       "    <tr>\n",
       "      <th>51</th>\n",
       "      <td>anti-social-behaviour</td>\n",
       "      <td>Force</td>\n",
       "      <td>Fraser Road</td>\n",
       "      <td>None</td>\n",
       "      <td>116776662</td>\n",
       "      <td>2024-02-01</td>\n",
       "    </tr>\n",
       "    <tr>\n",
       "      <th>631</th>\n",
       "      <td>violent-crime</td>\n",
       "      <td>Force</td>\n",
       "      <td>King Richard 1 Road</td>\n",
       "      <td>Under investigation</td>\n",
       "      <td>116776811</td>\n",
       "      <td>2024-02-01</td>\n",
       "    </tr>\n",
       "  </tbody>\n",
       "</table>\n",
       "</div>"
      ],
      "text/plain": [
       "                  category location_type  \\\n",
       "322           public-order         Force   \n",
       "160  criminal-damage-arson         Force   \n",
       "34   anti-social-behaviour         Force   \n",
       "201                  drugs         Force   \n",
       "313           public-order         Force   \n",
       "824          violent-crime         Force   \n",
       "520          violent-crime         Force   \n",
       "652          violent-crime         Force   \n",
       "51   anti-social-behaviour         Force   \n",
       "631          violent-crime         Force   \n",
       "\n",
       "                                 location  \\\n",
       "322   Further/higher Educational Building   \n",
       "160                       Heathfield Road   \n",
       "34                      Cumberland Street   \n",
       "201                           Supermarket   \n",
       "313                          Omega Street   \n",
       "824                         Shopping Area   \n",
       "520   Further/higher Educational Building   \n",
       "652                           Vivash Road   \n",
       "51                            Fraser Road   \n",
       "631                   King Richard 1 Road   \n",
       "\n",
       "                                    outcome_status         id      month  \n",
       "322                            Under investigation  116776853 2024-02-01  \n",
       "160  Investigation complete; no suspect identified  116778020 2024-02-01  \n",
       "34                                            None  116777385 2024-02-01  \n",
       "201                               Local resolution  116778007 2024-02-01  \n",
       "313                    Unable to prosecute suspect  116776946 2024-02-01  \n",
       "824                    Unable to prosecute suspect  116777093 2024-02-01  \n",
       "520  Investigation complete; no suspect identified  116776850 2024-02-01  \n",
       "652                            Under investigation  116777055 2024-02-01  \n",
       "51                                            None  116776662 2024-02-01  \n",
       "631                            Under investigation  116776811 2024-02-01  "
      ]
     },
     "execution_count": 16,
     "metadata": {},
     "output_type": "execute_result"
    }
   ],
   "source": [
    "location = []\n",
    "for row in df['location']:\n",
    "    crime_loc = row['street']['name']\n",
    "    crime_loc = crime_loc.replace('On or near', '')\n",
    "    location.append(crime_loc)\n",
    "\n",
    "df['location'] = location\n",
    "df.sample(10)"
   ]
  },
  {
   "cell_type": "code",
   "execution_count": 17,
   "id": "f5fc0b89-8b07-4c41-9651-8105163f2efa",
   "metadata": {},
   "outputs": [
    {
     "data": {
      "text/plain": [
       "([0, 1, 2, 3, 4],\n",
       " [Text(0, 0, 'violent-crime'),\n",
       "  Text(1, 0, 'shoplifting'),\n",
       "  Text(2, 0, 'public-order'),\n",
       "  Text(3, 0, 'anti-social-behaviour'),\n",
       "  Text(4, 0, 'criminal-damage-arson')])"
      ]
     },
     "execution_count": 17,
     "metadata": {},
     "output_type": "execute_result"
    },
    {
     "data": {
      "image/png": "[encoded data removed]",
      "text/plain": [
       "<Figure size 640x480 with 1 Axes>"
      ]
     },
     "metadata": {},
     "output_type": "display_data"
    }
   ],
   "source": [
    "top_5_crime = df['category'].value_counts()[:5]\n",
    "sns.barplot(top_5_crime)\n",
    "plt.xticks(rotation=45)"
   ]
  },
  {
   "cell_type": "code",
   "execution_count": 19,
   "id": "c9a5ba70-dba9-42d2-9b9c-04a1c731c42b",
   "metadata": {},
   "outputs": [
    {
     "data": {
      "text/plain": [
       "([0, 1, 2, 3, 4],\n",
       " [Text(0, 0, ' Parking Area'),\n",
       "  Text(1, 0, ' Supermarket'),\n",
       "  Text(2, 0, ' Guildhall Walk'),\n",
       "  Text(3, 0, \" Jacob's Street\"),\n",
       "  Text(4, 0, ' Shopping Area')])"
      ]
     },
     "execution_count": 19,
     "metadata": {},
     "output_type": "execute_result"
    },
    {
     "data": {
      "image/png": "[encoded data removed]",
      "text/plain": [
       "<Figure size 640x480 with 1 Axes>"
      ]
     },
     "metadata": {},
     "output_type": "display_data"
    }
   ],
   "source": [
    "top_5_loc = df['location'].value_counts()[:5]\n",
    "sns.barplot(top_5_loc)\n",
    "plt.xticks(rotation=45)"
   ]
  },
  {
   "cell_type": "code",
   "execution_count": 20,
   "id": "d907bec0-520e-44e0-8753-2d386ec42078",
   "metadata": {},
   "outputs": [
    {
     "data": {
      "text/plain": [
       "([0, 1], [Text(0, 0, 'Force'), Text(1, 0, 'BTP')])"
      ]
     },
     "execution_count": 20,
     "metadata": {},
     "output_type": "execute_result"
    },
    {
     "data": {
      "image/png": "[encoded data removed]",
      "text/plain": [
       "<Figure size 640x480 with 1 Axes>"
      ]
     },
     "metadata": {},
     "output_type": "display_data"
    }
   ],
   "source": [
    "loc_type = df['location_type'].value_counts()\n",
    "sns.barplot(loc_type)\n",
    "plt.xticks(rotation=45)"
   ]
  },
  {
   "cell_type": "code",
   "execution_count": 21,
   "id": "0cd5d746-4c2e-4a13-9e81-0a77784eb36f",
   "metadata": {},
   "outputs": [
    {
     "data": {
      "text/plain": [
       "([0, 1, 2, 3, 4],\n",
       " [Text(0, 0, 'Under investigation'),\n",
       "  Text(1, 0, 'Investigation complete; no suspect identified'),\n",
       "  Text(2, 0, 'Unable to prosecute suspect'),\n",
       "  Text(3, 0, 'None'),\n",
       "  Text(4, 0, 'Local resolution')])"
      ]
     },
     "execution_count": 21,
     "metadata": {},
     "output_type": "execute_result"
    },
    {
     "data": {
      "image/png": "[encoded data removed]",
      "text/plain": [
       "<Figure size 640x480 with 1 Axes>"
      ]
     },
     "metadata": {},
     "output_type": "display_data"
    }
   ],
   "source": [
    "status = df['outcome_status'].value_counts()[:5]\n",
    "sns.barplot(status)\n",
    "plt.xticks(rotation=90)"
   ]
  },
  {
   "cell_type": "code",
   "execution_count": 22,
   "id": "aa6f0141-8d09-4374-bf08-be33da18c223",
   "metadata": {},
   "outputs": [
    {
     "data": {
      "text/plain": [
       "(932, 6)"
      ]
     },
     "execution_count": 22,
     "metadata": {},
     "output_type": "execute_result"
    }
   ],
   "source": [
    "df.shape"
   ]
  },
  {
   "cell_type": "code",
   "execution_count": 23,
   "id": "40b7716f-3396-48ca-b07f-d0d8b8c087ec",
   "metadata": {},
   "outputs": [],
   "source": [
    "df.to_csv(\"Crimes_Port_2024_02\", index=False)"
   ]
  },
  {
   "cell_type": "code",
   "execution_count": null,
   "id": "91611272-05fd-4edf-883b-323191afca4c",
   "metadata": {},
   "outputs": [],
   "source": []
  }
 ],
 "metadata": {
  "kernelspec": {
   "display_name": "Python 3 (ipykernel)",
   "language": "python",
   "name": "python3"
  },
  "language_info": {
   "codemirror_mode": {
    "name": "ipython",
    "version": 3
   },
   "file_extension": ".py",
   "mimetype": "text/x-python",
   "name": "python",
   "nbconvert_exporter": "python",
   "pygments_lexer": "ipython3",
   "version": "3.9.7"
  }
 },
 "nbformat": 4,
 "nbformat_minor": 5
}
